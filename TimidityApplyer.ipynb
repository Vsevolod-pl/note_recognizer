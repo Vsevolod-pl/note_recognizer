{
 "cells": [
  {
   "cell_type": "code",
   "execution_count": 5,
   "metadata": {
    "collapsed": true
   },
   "outputs": [],
   "source": [
    "apply_timidity = '''timidity -Ow \"{}\" -o \"{}\"'''.format"
   ]
  },
  {
   "cell_type": "code",
   "execution_count": 4,
   "metadata": {
    "collapsed": true
   },
   "outputs": [],
   "source": [
    "import os\n",
    "def midiToWav(input_file,output_file):\n",
    "    os.system(apply_timidity(input_file,output_file))"
   ]
  },
  {
   "cell_type": "code",
   "execution_count": 30,
   "metadata": {
    "collapsed": true
   },
   "outputs": [],
   "source": [
    "wav_files=[]\n",
    "for path, subdirs, files in os.walk(\"/home/jheuristic/data/wav/\"):\n",
    "    wav_files=files"
   ]
  },
  {
   "cell_type": "code",
   "execution_count": 31,
   "metadata": {
    "collapsed": true
   },
   "outputs": [],
   "source": [
    "used_files=wav_files"
   ]
  },
  {
   "cell_type": "code",
   "execution_count": 32,
   "metadata": {
    "collapsed": true
   },
   "outputs": [],
   "source": [
    "for i in range(len(used_files)):\n",
    "    used_files[i] = used_files[i][:-4]"
   ]
  },
  {
   "cell_type": "code",
   "execution_count": null,
   "metadata": {
    "collapsed": true
   },
   "outputs": [],
   "source": [
    "file1=open('/home/jheuristic/data/used_files.txt','r')\n",
    "for midi in file1:\n",
    "    used_files.append(midi)"
   ]
  },
  {
   "cell_type": "code",
   "execution_count": 33,
   "metadata": {
    "collapsed": true
   },
   "outputs": [],
   "source": [
    "file1=open('/home/jheuristic/data/used_files.txt','a')\n",
    "for midi in used_files:\n",
    "    file1.write(\"%s\\n\" % midi)\n",
    "file1.close()"
   ]
  },
  {
   "cell_type": "code",
   "execution_count": 27,
   "metadata": {
    "collapsed": true
   },
   "outputs": [],
   "source": [
    "counter=0\n",
    "for path, subdirs, files in os.walk(\"/home/jheuristic/data/midies_flat/\"):\n",
    "    for file in files:\n",
    "        if not (file in used_files):\n",
    "            used_files.append(file)\n",
    "            midiToWav(\"/home/jheuristic/data/midies_flat/\" + file,\"/home/jheuristic/data/wav/\" + file + '.wav')\n",
    "            counter+=1\n",
    "        if(counter > 500):\n",
    "            break"
   ]
  },
  {
   "cell_type": "code",
   "execution_count": 14,
   "metadata": {},
   "outputs": [
    {
     "name": "stdout",
     "output_type": "stream",
     "text": [
      "stop\n"
     ]
    }
   ],
   "source": [
    "print('stop')"
   ]
  },
  {
   "cell_type": "code",
   "execution_count": 12,
   "metadata": {},
   "outputs": [
    {
     "data": {
      "text/plain": [
       "'timidity -Ow \"./midies/040 - Ibiza Dreams.mid\" -o \"out.wav\"'"
      ]
     },
     "execution_count": 12,
     "metadata": {},
     "output_type": "execute_result"
    }
   ],
   "source": [
    "apply_timidity('./midies/040 - Ibiza Dreams.mid','out.wav')"
   ]
  },
  {
   "cell_type": "code",
   "execution_count": null,
   "metadata": {
    "collapsed": true
   },
   "outputs": [],
   "source": [
    "exceptions = []\n",
    "    \n",
    "for path, subdirs, files in os.walk(\"/home/jheuristic/data/midies/\"):\n",
    "    try:\n",
    "        for wavfile in files:\n",
    "            midiToWav(path+\"/\"+wavfile,\"wavs/\"+wavfile+\".wav\")\n",
    "    except Exception as e:\n",
    "        exceptions.append(e)"
   ]
  },
  {
   "cell_type": "code",
   "execution_count": null,
   "metadata": {
    "collapsed": true
   },
   "outputs": [],
   "source": [
    "len(exceptions)"
   ]
  }
 ],
 "metadata": {
  "kernelspec": {
   "display_name": "Python 3",
   "language": "python",
   "name": "python3"
  },
  "language_info": {
   "codemirror_mode": {
    "name": "ipython",
    "version": 3
   },
   "file_extension": ".py",
   "mimetype": "text/x-python",
   "name": "python",
   "nbconvert_exporter": "python",
   "pygments_lexer": "ipython3",
   "version": "3.6.2"
  }
 },
 "nbformat": 4,
 "nbformat_minor": 2
}
