{
 "cells": [
  {
   "cell_type": "code",
   "execution_count": 16,
   "metadata": {},
   "outputs": [
    {
     "name": "stdout",
     "output_type": "stream",
     "text": [
      "Collecting magenta\n",
      "  Using cached https://files.pythonhosted.org/packages/df/b9/a2432f924cd042f2847164b2cf02ab19dd86b9086cf681e336371d369782/magenta-0.3.7-py2.py3-none-any.whl\n",
      "Requirement already satisfied: mir-eval>=0.4 in /home/jheuristic/.local/lib/python3.6/site-packages (from magenta)\n",
      "Requirement already satisfied: IPython in /opt/conda/anaconda3/lib/python3.6/site-packages (from magenta)\n",
      "Requirement already satisfied: pretty-midi>=0.2.6 in /home/jheuristic/.local/lib/python3.6/site-packages (from magenta)\n",
      "Requirement already satisfied: wheel in /opt/conda/anaconda3/lib/python3.6/site-packages (from magenta)\n",
      "Requirement already satisfied: tensorflow>=1.4.0 in /home/jheuristic/.local/lib/python3.6/site-packages (from magenta)\n",
      "Requirement already satisfied: numpy>=1.11.0 in /opt/conda/anaconda3/lib/python3.6/site-packages (from magenta)\n",
      "Requirement already satisfied: scipy>=0.18.1 in /opt/conda/anaconda3/lib/python3.6/site-packages (from magenta)\n",
      "Requirement already satisfied: librosa>=0.6.0 in /home/jheuristic/.local/lib/python3.6/site-packages (from magenta)\n",
      "Requirement already satisfied: bokeh>=0.12.0 in /opt/conda/anaconda3/lib/python3.6/site-packages (from magenta)\n",
      "Requirement already satisfied: pandas>=0.18.1 in /opt/conda/anaconda3/lib/python3.6/site-packages (from magenta)\n",
      "Collecting python-rtmidi (from magenta)\n",
      "  Using cached https://files.pythonhosted.org/packages/49/25/1a8b1290b51fb0d4a499c3285b635c005e30b8ff423fb116db61f3d80ca5/python-rtmidi-1.1.0.zip\n",
      "Requirement already satisfied: Pillow>=3.4.2 in /opt/conda/anaconda3/lib/python3.6/site-packages (from magenta)\n",
      "Requirement already satisfied: matplotlib>=1.5.3 in /opt/conda/anaconda3/lib/python3.6/site-packages (from magenta)\n",
      "Requirement already satisfied: mido==1.2.6 in /home/jheuristic/.local/lib/python3.6/site-packages (from magenta)\n",
      "Requirement already satisfied: intervaltree>=2.1.0 in /home/jheuristic/.local/lib/python3.6/site-packages (from magenta)\n",
      "Requirement already satisfied: futures in /home/jheuristic/.local/lib/python3.6/site-packages (from magenta)\n",
      "Requirement already satisfied: future in /opt/conda/anaconda3/lib/python3.6/site-packages (from mir-eval>=0.4->magenta)\n",
      "Requirement already satisfied: six in /opt/conda/anaconda3/lib/python3.6/site-packages (from mir-eval>=0.4->magenta)\n",
      "Requirement already satisfied: enum34>=1.1.6 in /opt/conda/anaconda3/lib/python3.6/site-packages (from tensorflow>=1.4.0->magenta)\n",
      "Requirement already satisfied: tensorflow-tensorboard<0.5.0,>=0.4.0rc1 in /home/jheuristic/.local/lib/python3.6/site-packages (from tensorflow>=1.4.0->magenta)\n",
      "Requirement already satisfied: protobuf>=3.3.0 in /opt/conda/anaconda3/lib/python3.6/site-packages (from tensorflow>=1.4.0->magenta)\n",
      "Requirement already satisfied: decorator>=3.0.0 in /opt/conda/anaconda3/lib/python3.6/site-packages (from librosa>=0.6.0->magenta)\n",
      "Requirement already satisfied: scikit-learn!=0.19.0,>=0.14.0 in /opt/conda/anaconda3/lib/python3.6/site-packages (from librosa>=0.6.0->magenta)\n",
      "Requirement already satisfied: audioread>=2.0.0 in /home/jheuristic/.local/lib/python3.6/site-packages (from librosa>=0.6.0->magenta)\n",
      "Requirement already satisfied: resampy>=0.2.0 in /home/jheuristic/.local/lib/python3.6/site-packages (from librosa>=0.6.0->magenta)\n",
      "Requirement already satisfied: joblib>=0.7.0 in /home/jheuristic/.local/lib/python3.6/site-packages (from librosa>=0.6.0->magenta)\n",
      "Requirement already satisfied: python-dateutil>=2 in /opt/conda/anaconda3/lib/python3.6/site-packages (from pandas>=0.18.1->magenta)\n",
      "Requirement already satisfied: pytz>=2011k in /opt/conda/anaconda3/lib/python3.6/site-packages (from pandas>=0.18.1->magenta)\n",
      "Requirement already satisfied: olefile in /opt/conda/anaconda3/lib/python3.6/site-packages (from Pillow>=3.4.2->magenta)\n",
      "Requirement already satisfied: cycler>=0.10 in /opt/conda/anaconda3/lib/python3.6/site-packages (from matplotlib>=1.5.3->magenta)\n",
      "Requirement already satisfied: pyparsing!=2.0.4,!=2.1.2,!=2.1.6,>=1.5.6 in /opt/conda/anaconda3/lib/python3.6/site-packages (from matplotlib>=1.5.3->magenta)\n",
      "Requirement already satisfied: sortedcontainers in /opt/conda/anaconda3/lib/python3.6/site-packages (from intervaltree>=2.1.0->magenta)\n",
      "Requirement already satisfied: bleach==1.5.0 in /opt/conda/anaconda3/lib/python3.6/site-packages (from tensorflow-tensorboard<0.5.0,>=0.4.0rc1->tensorflow>=1.4.0->magenta)\n",
      "Requirement already satisfied: html5lib==0.9999999 in /opt/conda/anaconda3/lib/python3.6/site-packages (from tensorflow-tensorboard<0.5.0,>=0.4.0rc1->tensorflow>=1.4.0->magenta)\n",
      "Requirement already satisfied: markdown>=2.6.8 in /opt/conda/anaconda3/lib/python3.6/site-packages (from tensorflow-tensorboard<0.5.0,>=0.4.0rc1->tensorflow>=1.4.0->magenta)\n",
      "Requirement already satisfied: werkzeug>=0.11.10 in /opt/conda/anaconda3/lib/python3.6/site-packages (from tensorflow-tensorboard<0.5.0,>=0.4.0rc1->tensorflow>=1.4.0->magenta)\n",
      "Requirement already satisfied: setuptools in /opt/conda/anaconda3/lib/python3.6/site-packages (from protobuf>=3.3.0->tensorflow>=1.4.0->magenta)\n",
      "Requirement already satisfied: numba>=0.32 in /opt/conda/anaconda3/lib/python3.6/site-packages (from resampy>=0.2.0->librosa>=0.6.0->magenta)\n",
      "Requirement already satisfied: llvmlite in /opt/conda/anaconda3/lib/python3.6/site-packages (from numba>=0.32->resampy>=0.2.0->librosa>=0.6.0->magenta)\n",
      "Building wheels for collected packages: python-rtmidi\n",
      "  Running setup.py bdist_wheel for python-rtmidi ... \u001b[?25ldone\n",
      "\u001b[?25h  Stored in directory: /home/jheuristic/.cache/pip/wheels/42/ac/9e/d5c633fcc35e0f31e4eebc3e7a5ea5383bc835f1f20c901a81\n",
      "Successfully built python-rtmidi\n",
      "Installing collected packages: python-rtmidi, magenta\n",
      "Successfully installed magenta-0.3.7 python-rtmidi-1.1.0\n",
      "\u001b[33mYou are using pip version 9.0.1, however version 10.0.1 is available.\n",
      "You should consider upgrading via the 'pip install --upgrade pip' command.\u001b[0m\n"
     ]
    }
   ],
   "source": [
    "#!mkdir ./tmp\n",
    "!pip install magenta --user --build ./tmp"
   ]
  },
  {
   "cell_type": "code",
   "execution_count": null,
   "metadata": {
    "collapsed": true
   },
   "outputs": [],
   "source": []
  },
  {
   "cell_type": "code",
   "execution_count": 9,
   "metadata": {},
   "outputs": [
    {
     "name": "stdout",
     "output_type": "stream",
     "text": [
      "Collecting tensorflow==1.4.0\n",
      "  Using cached https://files.pythonhosted.org/packages/86/9f/be0165c6eefd841e6928e54d3d083fa174f92d640fdc52f73a33dc9c54d1/tensorflow-1.4.0-cp36-cp36m-manylinux1_x86_64.whl\n",
      "Requirement already satisfied: tensorflow-tensorboard<0.5.0,>=0.4.0rc1 in /home/jheuristic/.local/lib/python3.6/site-packages (from tensorflow==1.4.0)\n",
      "Requirement already satisfied: six>=1.10.0 in /opt/conda/anaconda3/lib/python3.6/site-packages (from tensorflow==1.4.0)\n",
      "Requirement already satisfied: protobuf>=3.3.0 in /opt/conda/anaconda3/lib/python3.6/site-packages (from tensorflow==1.4.0)\n",
      "Requirement already satisfied: numpy>=1.12.1 in /opt/conda/anaconda3/lib/python3.6/site-packages (from tensorflow==1.4.0)\n",
      "Requirement already satisfied: wheel>=0.26 in /opt/conda/anaconda3/lib/python3.6/site-packages (from tensorflow==1.4.0)\n",
      "Requirement already satisfied: enum34>=1.1.6 in /opt/conda/anaconda3/lib/python3.6/site-packages (from tensorflow==1.4.0)\n",
      "Requirement already satisfied: werkzeug>=0.11.10 in /opt/conda/anaconda3/lib/python3.6/site-packages (from tensorflow-tensorboard<0.5.0,>=0.4.0rc1->tensorflow==1.4.0)\n",
      "Requirement already satisfied: bleach==1.5.0 in /opt/conda/anaconda3/lib/python3.6/site-packages (from tensorflow-tensorboard<0.5.0,>=0.4.0rc1->tensorflow==1.4.0)\n",
      "Requirement already satisfied: markdown>=2.6.8 in /opt/conda/anaconda3/lib/python3.6/site-packages (from tensorflow-tensorboard<0.5.0,>=0.4.0rc1->tensorflow==1.4.0)\n",
      "Requirement already satisfied: html5lib==0.9999999 in /opt/conda/anaconda3/lib/python3.6/site-packages (from tensorflow-tensorboard<0.5.0,>=0.4.0rc1->tensorflow==1.4.0)\n",
      "Requirement already satisfied: setuptools in /opt/conda/anaconda3/lib/python3.6/site-packages (from protobuf>=3.3.0->tensorflow==1.4.0)\n",
      "Installing collected packages: tensorflow\n",
      "Successfully installed tensorflow-1.4.0\n",
      "\u001b[33mYou are using pip version 9.0.1, however version 10.0.1 is available.\n",
      "You should consider upgrading via the 'pip install --upgrade pip' command.\u001b[0m\n"
     ]
    }
   ],
   "source": [
    "!pip install --user tensorflow==1.4.0 --build ./tmp"
   ]
  },
  {
   "cell_type": "code",
   "execution_count": 10,
   "metadata": {},
   "outputs": [],
   "source": [
    "import sys\n",
    "sys.path.insert(0, \"/home/jheuristic/.local/lib/python3.6/\")"
   ]
  },
  {
   "cell_type": "code",
   "execution_count": 11,
   "metadata": {},
   "outputs": [
    {
     "name": "stderr",
     "output_type": "stream",
     "text": [
      "/opt/conda/anaconda3/lib/python3.6/importlib/_bootstrap.py:205: RuntimeWarning: compiletime version 3.5 of module 'tensorflow.python.framework.fast_tensor_util' does not match runtime version 3.6\n",
      "  return f(*args, **kwds)\n"
     ]
    }
   ],
   "source": [
    "import tensorflow as tf"
   ]
  },
  {
   "cell_type": "code",
   "execution_count": 20,
   "metadata": {},
   "outputs": [
    {
     "name": "stdout",
     "output_type": "stream",
     "text": [
      "wget: /opt/conda/anaconda3/lib/libcrypto.so.1.0.0: no version information available (required by wget)\n",
      "wget: /opt/conda/anaconda3/lib/libssl.so.1.0.0: no version information available (required by wget)\n",
      "wget: /opt/conda/anaconda3/lib/libssl.so.1.0.0: no version information available (required by wget)\n",
      "--2018-05-19 14:41:10--  http://download.magenta.tensorflow.org/models/onsets_frames_transcription/checkpoint.zip\n",
      "Resolving download.magenta.tensorflow.org (download.magenta.tensorflow.org)... 172.217.9.16, 2607:f8b0:4000:812::2010\n",
      "Connecting to download.magenta.tensorflow.org (download.magenta.tensorflow.org)|172.217.9.16|:80... connected.\n",
      "HTTP request sent, awaiting response... 200 OK\n",
      "Length: 53849639 (51M) [application/zip]\n",
      "Saving to: ‘checkpoint.zip’\n",
      "\n",
      "checkpoint.zip      100%[===================>]  51.35M  79.4MB/s    in 0.6s    \n",
      "\n",
      "2018-05-19 14:41:11 (79.4 MB/s) - ‘checkpoint.zip’ saved [53849639/53849639]\n",
      "\n",
      "Archive:  checkpoint.zip\n",
      "   creating: train/\n",
      "  inflating: train/model.ckpt-50002.index  \n",
      "  inflating: train/checkpoint        \n",
      "  inflating: train/model.ckpt-50002.meta  \n",
      "  inflating: train/model.ckpt-50002.data-00000-of-00001  \n"
     ]
    }
   ],
   "source": [
    "CHECKPOINT_URL = 'http://download.magenta.tensorflow.org/models/onsets_frames_transcription/checkpoint.zip'\n",
    "!wget -O checkpoint.zip {CHECKPOINT_URL}\n",
    "!unzip -o checkpoint.zip\n",
    "CHECKPOINT_DIR = './train'"
   ]
  },
  {
   "cell_type": "code",
   "execution_count": 21,
   "metadata": {},
   "outputs": [
    {
     "name": "stdout",
     "output_type": "stream",
     "text": [
      "acoustic_checkpoint=./train/model.ckpt-50002\n",
      "INFO:tensorflow:Restoring parameters from ./train/model.ckpt-50002\n"
     ]
    }
   ],
   "source": [
    "from __future__ import absolute_import\n",
    "from __future__ import division\n",
    "from __future__ import print_function\n",
    "\n",
    "import tensorflow as tf\n",
    "import librosa\n",
    "import numpy as np\n",
    "\n",
    "#from google.colab import files\n",
    "\n",
    "from magenta.common import tf_utils\n",
    "from magenta.music import audio_io\n",
    "import magenta.music as mm\n",
    "from magenta.models.onsets_frames_transcription import model\n",
    "from magenta.models.onsets_frames_transcription import constants\n",
    "from magenta.models.onsets_frames_transcription import data\n",
    "from magenta.models.onsets_frames_transcription import infer_util\n",
    "from magenta.music import midi_io\n",
    "from magenta.protobuf import music_pb2\n",
    "\n",
    "## Define model and load checkpoint\n",
    "## Only needs to be run once.\n",
    "\n",
    "acoustic_checkpoint = tf.train.latest_checkpoint(CHECKPOINT_DIR)\n",
    "print('acoustic_checkpoint=' + acoustic_checkpoint)\n",
    "hparams =  tf_utils.merge_hparams(\n",
    "      constants.DEFAULT_HPARAMS, model.get_default_hparams())\n",
    "\n",
    "with tf.Graph().as_default():\n",
    "  examples = tf.placeholder(tf.string, [None])\n",
    "\n",
    "  num_dims = constants.MIDI_PITCHES\n",
    "\n",
    "  batch, iterator = data.provide_batch(\n",
    "      batch_size=1,\n",
    "      examples=examples,\n",
    "      hparams=hparams,\n",
    "      is_training=False,\n",
    "      truncated_length=0)\n",
    "\n",
    "  model.get_model(batch, hparams, is_training=False)\n",
    "\n",
    "  session = tf.Session()\n",
    "  saver = tf.train.Saver()\n",
    "  saver.restore(session, acoustic_checkpoint)\n",
    "\n",
    "  onset_probs_flat = tf.get_default_graph().get_tensor_by_name(\n",
    "      'onsets/onset_probs_flat:0')\n",
    "  frame_probs_flat = tf.get_default_graph().get_tensor_by_name(\n",
    "     'frame_probs_flat:0')"
   ]
  },
  {
   "cell_type": "code",
   "execution_count": 22,
   "metadata": {},
   "outputs": [
    {
     "ename": "AttributeError",
     "evalue": "'str' object has no attribute 'keys'",
     "output_type": "error",
     "traceback": [
      "\u001b[0;31m---------------------------------------------------------------------------\u001b[0m",
      "\u001b[0;31mAttributeError\u001b[0m                            Traceback (most recent call last)",
      "\u001b[0;32m<ipython-input-22-9f33cc3ebed0>\u001b[0m in \u001b[0;36m<module>\u001b[0;34m()\u001b[0m\n\u001b[1;32m      2\u001b[0m \u001b[0;34m\u001b[0m\u001b[0m\n\u001b[1;32m      3\u001b[0m \u001b[0mto_process\u001b[0m \u001b[0;34m=\u001b[0m \u001b[0;34m[\u001b[0m\u001b[0;34m]\u001b[0m\u001b[0;34m\u001b[0m\u001b[0m\n\u001b[0;32m----> 4\u001b[0;31m \u001b[0;32mfor\u001b[0m \u001b[0mfn\u001b[0m \u001b[0;32min\u001b[0m \u001b[0muploaded\u001b[0m\u001b[0;34m.\u001b[0m\u001b[0mkeys\u001b[0m\u001b[0;34m(\u001b[0m\u001b[0;34m)\u001b[0m\u001b[0;34m:\u001b[0m\u001b[0;34m\u001b[0m\u001b[0m\n\u001b[0m\u001b[1;32m      5\u001b[0m   print('User uploaded file \"{name}\" with length {length} bytes'.format(\n\u001b[1;32m      6\u001b[0m       name=fn, length=len(uploaded[fn])))\n",
      "\u001b[0;31mAttributeError\u001b[0m: 'str' object has no attribute 'keys'"
     ]
    }
   ],
   "source": [
    "uploaded ='/home/jheuristic/data/wav/alwaysforever.mid.wav'\n",
    "\n",
    "to_process = []\n",
    "for fn in uploaded.keys():\n",
    "  print('User uploaded file \"{name}\" with length {length} bytes'.format(\n",
    "      name=fn, length=len(uploaded[fn])))\n",
    "  open(fn, 'w').write(uploaded[fn])\n",
    "  wav_data = audio_io.samples_to_wav_data(\n",
    "      librosa.util.normalize(librosa.core.load(fn, sr=hparams.sample_rate)[0]),\n",
    "      hparams.sample_rate)\n",
    "\n",
    "  example = tf.train.Example(features=tf.train.Features(feature={\n",
    "      'id':\n",
    "          tf.train.Feature(bytes_list=tf.train.BytesList(\n",
    "              value=[fn.encode('utf-8')]\n",
    "          )),\n",
    "      'sequence':\n",
    "          tf.train.Feature(bytes_list=tf.train.BytesList(\n",
    "              value=[music_pb2.NoteSequence().SerializeToString()]\n",
    "          )),\n",
    "      'audio':\n",
    "          tf.train.Feature(bytes_list=tf.train.BytesList(\n",
    "              value=[wav_data]\n",
    "          )),\n",
    "  }))\n",
    "  to_process.append(example.SerializeToString())\n",
    "  print('Processing complete for', fn)\n",
    "  \n",
    "  \n",
    "session.run(iterator.initializer, {examples: to_process})"
   ]
  },
  {
   "cell_type": "code",
   "execution_count": 5,
   "metadata": {},
   "outputs": [
    {
     "name": "stdout",
     "output_type": "stream",
     "text": [
      "Cloning into 'magenta'...\n",
      "remote: Counting objects: 7320, done.\u001b[K\n",
      "remote: Compressing objects: 100% (30/30), done.\u001b[K\n",
      "remote: Total 7320 (delta 9), reused 8 (delta 2), pack-reused 7288\u001b[K\n",
      "Receiving objects: 100% (7320/7320), 26.74 MiB | 16.97 MiB/s, done.\n",
      "Resolving deltas: 100% (4904/4904), done.\n",
      "Checking connectivity... done.\n"
     ]
    }
   ],
   "source": [
    "!git clone https://github.com/tensorflow/magenta"
   ]
  },
  {
   "cell_type": "code",
   "execution_count": 12,
   "metadata": {},
   "outputs": [],
   "source": [
    "import sys\n",
    "sys.path.append(\"/mnt/jheuristic/Google_magenta/magenta_repo/\")"
   ]
  },
  {
   "cell_type": "code",
   "execution_count": 13,
   "metadata": {},
   "outputs": [
    {
     "ename": "ImportError",
     "evalue": "cannot import name 'music_pb2'",
     "output_type": "error",
     "traceback": [
      "\u001b[0;31m---------------------------------------------------------------------------\u001b[0m",
      "\u001b[0;31mImportError\u001b[0m                               Traceback (most recent call last)",
      "\u001b[0;32m<ipython-input-13-319d443e28d3>\u001b[0m in \u001b[0;36m<module>\u001b[0;34m()\u001b[0m\n\u001b[0;32m----> 1\u001b[0;31m \u001b[0;32mimport\u001b[0m \u001b[0mmagenta\u001b[0m\u001b[0;34m\u001b[0m\u001b[0m\n\u001b[0m",
      "\u001b[0;32m/mnt/jheuristic/Google_magenta/magenta_repo/magenta/__init__.py\u001b[0m in \u001b[0;36m<module>\u001b[0;34m()\u001b[0m\n\u001b[1;32m     31\u001b[0m \u001b[0;32mimport\u001b[0m \u001b[0mmagenta\u001b[0m\u001b[0;34m.\u001b[0m\u001b[0mcommon\u001b[0m\u001b[0;34m.\u001b[0m\u001b[0mtesting_lib\u001b[0m\u001b[0;34m\u001b[0m\u001b[0m\n\u001b[1;32m     32\u001b[0m \u001b[0;32mimport\u001b[0m \u001b[0mmagenta\u001b[0m\u001b[0;34m.\u001b[0m\u001b[0mcommon\u001b[0m\u001b[0;34m.\u001b[0m\u001b[0mtf_utils\u001b[0m\u001b[0;34m\u001b[0m\u001b[0m\n\u001b[0;32m---> 33\u001b[0;31m \u001b[0;32mimport\u001b[0m \u001b[0mmagenta\u001b[0m\u001b[0;34m.\u001b[0m\u001b[0mmusic\u001b[0m\u001b[0;34m.\u001b[0m\u001b[0mabc_parser\u001b[0m\u001b[0;34m\u001b[0m\u001b[0m\n\u001b[0m\u001b[1;32m     34\u001b[0m \u001b[0;32mimport\u001b[0m \u001b[0mmagenta\u001b[0m\u001b[0;34m.\u001b[0m\u001b[0mmusic\u001b[0m\u001b[0;34m.\u001b[0m\u001b[0maudio_io\u001b[0m\u001b[0;34m\u001b[0m\u001b[0m\n\u001b[1;32m     35\u001b[0m \u001b[0;32mimport\u001b[0m \u001b[0mmagenta\u001b[0m\u001b[0;34m.\u001b[0m\u001b[0mmusic\u001b[0m\u001b[0;34m.\u001b[0m\u001b[0mchord_symbols_lib\u001b[0m\u001b[0;34m\u001b[0m\u001b[0m\n",
      "\u001b[0;32m/mnt/jheuristic/Google_magenta/magenta_repo/magenta/music/__init__.py\u001b[0m in \u001b[0;36m<module>\u001b[0;34m()\u001b[0m\n\u001b[1;32m     15\u001b[0m \u001b[0;34m\"\"\"Imports objects from music modules into the top-level music namespace.\"\"\"\u001b[0m\u001b[0;34m\u001b[0m\u001b[0m\n\u001b[1;32m     16\u001b[0m \u001b[0;34m\u001b[0m\u001b[0m\n\u001b[0;32m---> 17\u001b[0;31m \u001b[0;32mfrom\u001b[0m \u001b[0mmagenta\u001b[0m\u001b[0;34m.\u001b[0m\u001b[0mmusic\u001b[0m\u001b[0;34m.\u001b[0m\u001b[0mabc_parser\u001b[0m \u001b[0;32mimport\u001b[0m \u001b[0mparse_abc_tunebook\u001b[0m\u001b[0;34m\u001b[0m\u001b[0m\n\u001b[0m\u001b[1;32m     18\u001b[0m \u001b[0;32mfrom\u001b[0m \u001b[0mmagenta\u001b[0m\u001b[0;34m.\u001b[0m\u001b[0mmusic\u001b[0m\u001b[0;34m.\u001b[0m\u001b[0mabc_parser\u001b[0m \u001b[0;32mimport\u001b[0m \u001b[0mparse_abc_tunebook_file\u001b[0m\u001b[0;34m\u001b[0m\u001b[0m\n\u001b[1;32m     19\u001b[0m \u001b[0;34m\u001b[0m\u001b[0m\n",
      "\u001b[0;32m/mnt/jheuristic/Google_magenta/magenta_repo/magenta/music/abc_parser.py\u001b[0m in \u001b[0;36m<module>\u001b[0;34m()\u001b[0m\n\u001b[1;32m     31\u001b[0m \u001b[0;34m\u001b[0m\u001b[0m\n\u001b[1;32m     32\u001b[0m \u001b[0;32mfrom\u001b[0m \u001b[0mmagenta\u001b[0m\u001b[0;34m.\u001b[0m\u001b[0mmusic\u001b[0m \u001b[0;32mimport\u001b[0m \u001b[0mconstants\u001b[0m\u001b[0;34m\u001b[0m\u001b[0m\n\u001b[0;32m---> 33\u001b[0;31m \u001b[0;32mfrom\u001b[0m \u001b[0mmagenta\u001b[0m\u001b[0;34m.\u001b[0m\u001b[0mprotobuf\u001b[0m \u001b[0;32mimport\u001b[0m \u001b[0mmusic_pb2\u001b[0m\u001b[0;34m\u001b[0m\u001b[0m\n\u001b[0m\u001b[1;32m     34\u001b[0m \u001b[0;34m\u001b[0m\u001b[0m\n\u001b[1;32m     35\u001b[0m \u001b[0;34m\u001b[0m\u001b[0m\n",
      "\u001b[0;31mImportError\u001b[0m: cannot import name 'music_pb2'"
     ]
    }
   ],
   "source": [
    "import magenta"
   ]
  },
  {
   "cell_type": "code",
   "execution_count": null,
   "metadata": {
    "collapsed": true
   },
   "outputs": [],
   "source": []
  }
 ],
 "metadata": {
  "kernelspec": {
   "display_name": "Python 3",
   "language": "python",
   "name": "python3"
  },
  "language_info": {
   "codemirror_mode": {
    "name": "ipython",
    "version": 3
   },
   "file_extension": ".py",
   "mimetype": "text/x-python",
   "name": "python",
   "nbconvert_exporter": "python",
   "pygments_lexer": "ipython3",
   "version": "3.6.2"
  }
 },
 "nbformat": 4,
 "nbformat_minor": 2
}
