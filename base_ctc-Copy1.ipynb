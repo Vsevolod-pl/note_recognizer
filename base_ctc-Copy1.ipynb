{
 "cells": [
  {
   "cell_type": "code",
   "execution_count": 1,
   "metadata": {},
   "outputs": [],
   "source": [
    "import numpy as np\n",
    "import matplotlib.pyplot as plt\n",
    "%matplotlib inline"
   ]
  },
  {
   "cell_type": "code",
   "execution_count": 2,
   "metadata": {},
   "outputs": [],
   "source": [
    "import pickle\n",
    "curves = pickle.load(open('curves.pkl', 'rb'))"
   ]
  },
  {
   "cell_type": "code",
   "execution_count": 3,
   "metadata": {},
   "outputs": [],
   "source": [
    "\n",
    "\n",
    "for row in curves:\n",
    "    x = np.array(row['curve']['x']) / 100.\n",
    "    y = np.array(row['curve']['y']) / 100.\n",
    "    dx = np.concatenate([[0], np.diff(row['curve']['x'])], 0) / 10.\n",
    "    dy = np.concatenate([[0], np.diff(row['curve']['y'])], 0) / 10.\n",
    "    dt = np.concatenate([[0], np.diff(row['curve']['t'])], 0) / 10.\n",
    "    \n",
    "    row['curve_features'] = np.stack([x, y, dx, dy, dt], -1)\n",
    "    \n",
    "    row['curve']['dt'] = dt\n",
    "    "
   ]
  },
  {
   "cell_type": "code",
   "execution_count": 4,
   "metadata": {},
   "outputs": [
    {
     "name": "stderr",
     "output_type": "stream",
     "text": [
      "/home/jheuristic/.local/lib/python3.5/site-packages/sklearn/cross_validation.py:41: DeprecationWarning: This module was deprecated in version 0.18 in favor of the model_selection module into which all the refactored classes and functions are moved. Also note that the interface of the new CV iterators are different from that of this module. This module will be removed in 0.20.\n",
      "  \"This module will be removed in 0.20.\", DeprecationWarning)\n"
     ]
    }
   ],
   "source": [
    "from sklearn.cross_validation import train_test_split\n",
    "train_curves, val_curves = train_test_split(curves, test_size=0.1, random_state=42)\n"
   ]
  },
  {
   "cell_type": "code",
   "execution_count": 5,
   "metadata": {},
   "outputs": [
    {
     "name": "stdout",
     "output_type": "stream",
     "text": [
      "лесная\n"
     ]
    },
    {
     "data": {
      "text/plain": [
       "<matplotlib.collections.PathCollection at 0x7f80973cda58>"
      ]
     },
     "execution_count": 5,
     "metadata": {},
     "output_type": "execute_result"
    },
    {
     "data": {
      "image/png": "[encoded data removed]",
      "text/plain": [
       "<matplotlib.figure.Figure at 0x7f80993e5668>"
      ]
     },
     "metadata": {},
     "output_type": "display_data"
    }
   ],
   "source": [
    "i=10\n",
    "curve = curves[i]['curve']\n",
    "print(curves[i]['word'])\n",
    "\n",
    "plt.plot(curve['x'], curve['y'])\n",
    "plt.scatter(curve['x'], curve['y'], \n",
    "             s=curve['dt'])"
   ]
  },
  {
   "cell_type": "code",
   "execution_count": 6,
   "metadata": {},
   "outputs": [
    {
     "name": "stdout",
     "output_type": "stream",
     "text": [
      "n_tokens = 38\n"
     ]
    }
   ],
   "source": [
    "tokens = sorted(list(set(' '.join(curve['word'] for curve in curves))))\n",
    "\n",
    "EOS = ';'\n",
    "assert EOS not in tokens\n",
    "tokens = [None, EOS] + tokens + [None] #make sure EOS is 1-st to make it tfnn-familiar\n",
    "\n",
    "\n",
    "token_to_id = {t:i for i, t in enumerate(tokens)}\n",
    "print(\"n_tokens =\", len(tokens))\n",
    "\n",
    "EOS_ix = token_to_id[EOS]\n",
    "BLANK_ix = len(tokens) - 1\n"
   ]
  },
  {
   "cell_type": "code",
   "execution_count": 7,
   "metadata": {},
   "outputs": [],
   "source": [
    "def to_matrix(lines, max_len=None,  dtype='int32', batch_first = True):\n",
    "    \"\"\"Casts a list of names into rnn-digestable matrix\"\"\"\n",
    "    \n",
    "    max_len = max_len or (max(map(len, lines)) + 1)\n",
    "    lines_ix = np.full([len(lines), max_len], EOS_ix, dtype=dtype)\n",
    "\n",
    "    for i in range(len(lines)):\n",
    "        line_ix = [token_to_id[c] for c in lines[i]]\n",
    "        line_ix.append(EOS_ix)\n",
    "        lines_ix[i, :len(line_ix)] = line_ix\n",
    "        \n",
    "    if not batch_first: # convert [batch, time] into [time, batch]\n",
    "        lines_ix = np.transpose(lines_ix)\n",
    "\n",
    "    return lines_ix"
   ]
  },
  {
   "cell_type": "code",
   "execution_count": 8,
   "metadata": {},
   "outputs": [
    {
     "name": "stdout",
     "output_type": "stream",
     "text": [
      "['этапах', 'ориентацию', 'атс', 'боится', 'глядеть']\n"
     ]
    },
    {
     "data": {
      "text/plain": [
       "array([[33, 22,  4, 19,  4, 25,  1,  1,  1,  1,  1],\n",
       "       [18, 20, 12,  9, 17, 22,  4, 26, 12, 34,  1],\n",
       "       [ 4, 22, 21,  1,  1,  1,  1,  1,  1,  1,  1],\n",
       "       [ 5, 18, 12, 22, 21, 35,  1,  1,  1,  1,  1],\n",
       "       [ 7, 15, 35,  8,  9, 22, 32,  1,  1,  1,  1]], dtype=int32)"
      ]
     },
     "execution_count": 8,
     "metadata": {},
     "output_type": "execute_result"
    }
   ],
   "source": [
    "_dummy_curves = [x['word'] for x in train_curves[:5]]\n",
    "print(_dummy_curves)\n",
    "to_matrix(_dummy_curves)"
   ]
  },
  {
   "cell_type": "code",
   "execution_count": 9,
   "metadata": {},
   "outputs": [],
   "source": [
    "NUM_FEATURES = row['curve_features'].shape[1]"
   ]
  },
  {
   "cell_type": "code",
   "execution_count": 10,
   "metadata": {},
   "outputs": [],
   "source": [
    "curve_to_array = lambda curve: np.stack([curve[c] for c in curve_features], -1)\n",
    "\n",
    "def generate_batch(curves, batch_size=None, replace=False):\n",
    "    if batch_size is not None:\n",
    "        curves = [curves[i] for i in np.random.choice(len(curves), batch_size, replace=replace)]\n",
    "        \n",
    "    words = [x['word'] for x in curves]\n",
    "    \n",
    "    words_ix = to_matrix(words)\n",
    "    features = [x['curve_features'] for x in curves]\n",
    "    swipe_lengths = np.array(list(map(len, features)), dtype='int32')\n",
    "    \n",
    "    features_matrix = np.zeros([len(features), max(swipe_lengths), NUM_FEATURES], 'float32')\n",
    "    for i, swipe in enumerate(features):\n",
    "        features_matrix[i, :len(swipe)] = swipe\n",
    "    \n",
    "    return features_matrix, swipe_lengths, words_ix\n",
    "    "
   ]
  },
  {
   "cell_type": "code",
   "execution_count": 11,
   "metadata": {},
   "outputs": [],
   "source": [
    "_dummy_swipe, _dummy_swipe_len, _dummy_target_ix = generate_batch(train_curves, batch_size=3)"
   ]
  },
  {
   "cell_type": "markdown",
   "metadata": {},
   "source": [
    "### Architecture"
   ]
  },
  {
   "cell_type": "code",
   "execution_count": 12,
   "metadata": {},
   "outputs": [
    {
     "name": "stdout",
     "output_type": "stream",
     "text": [
      "env: CUDA_VISIBLE_DEVICES=1\n"
     ]
    }
   ],
   "source": [
    "%env CUDA_VISIBLE_DEVICES=1\n",
    "import tensorflow as tf\n",
    "tf.reset_default_graph()\n",
    "gpu_options = tf.GPUOptions(per_process_gpu_memory_fraction=0.45, allow_growth=True)\n",
    "sess = tf.InteractiveSession(config=tf.ConfigProto(gpu_options=gpu_options, \n",
    "                                                   allow_soft_placement=True,\n",
    "                                                   log_device_placement=True))"
   ]
  },
  {
   "cell_type": "code",
   "execution_count": 13,
   "metadata": {},
   "outputs": [],
   "source": [
    "from tfnn.ops.basic import infer_length\n",
    "swipe_ph = tf.placeholder_with_default(_dummy_swipe, [None, None, NUM_FEATURES])\n",
    "swipe_len_ph = tf.placeholder_with_default(_dummy_swipe_len, [None])\n",
    "reference_answers = tf.placeholder_with_default(_dummy_target_ix, [None, None])\n",
    "\n",
    "swipe_mask = tf.sequence_mask(swipe_len_ph, maxlen=tf.shape(swipe_ph)[1], dtype=tf.float32)\n",
    "ref_len = infer_length(reference_answers, EOS_ix)\n",
    "ref_mask = tf.sequence_mask(ref_len, maxlen=tf.shape(reference_answers)[1], dtype=tf.float32)"
   ]
  },
  {
   "cell_type": "code",
   "execution_count": 14,
   "metadata": {},
   "outputs": [
    {
     "name": "stderr",
     "output_type": "stream",
     "text": [
      "Using TensorFlow backend.\n"
     ]
    }
   ],
   "source": [
    "import keras\n",
    "from keras.models import Sequential\n",
    "import keras.layers as L\n",
    "keras.backend.set_session(sess)\n",
    "\n",
    "model = Sequential([\n",
    "    L.InputLayer((None, NUM_FEATURES)),\n",
    "    L.GRU(256, return_sequences=True),\n",
    "    L.Dense(len(tokens))\n",
    "])\n",
    "\n",
    "logits = model(swipe_ph)"
   ]
  },
  {
   "cell_type": "code",
   "execution_count": 15,
   "metadata": {},
   "outputs": [],
   "source": [
    "import tensorflow as tf\n",
    "from tfnn.ops.basic import infer_mask\n",
    "\n",
    "\n",
    "def compute_ctc_loss(logits, logits_length, out_ref, eos_ix=1,\n",
    "                     force_blanks_after_eos=True):\n",
    "    \"\"\"\n",
    "    Computes CTC loss function for each sequence in batch\n",
    "    :param logits: translation logits, tensor float32[batch, time, voc_size]\n",
    "    :param logits_length: logit sequence lengths, tensor int[batch]\n",
    "    :param eos_ix: id of end-of-sequence. MAKE SURE IT IS CORRECT\n",
    "    :param force_blanks_after_eos: if True, forces blanks\n",
    "    :returns: differentiable CTC loss, float32[batch_size]\n",
    "    \"\"\"\n",
    "    assert logits.shape[-1] is not None\n",
    "\n",
    "    # blank is now the last token\n",
    "    blank_index = tf.cast(logits.shape[-1], out_ref.dtype)\n",
    "\n",
    "    if force_blanks_after_eos:\n",
    "        # make sure reference labels after first EOS are blanks\n",
    "        out_mask = infer_mask(out_ref, eos_ix, dtype=out_ref.dtype)\n",
    "        out_ref = out_ref * out_mask + tf.fill(tf.shape(out_ref), blank_index) * (1 - out_mask)\n",
    "    # cast labels to sparse\n",
    "    # [0,0], [0,1], ..., [1,0], [1,1], ... [batch_size, max_length]\n",
    "    out_ref_indices = tf.where(infer_mask(out_ref, eos_ix))\n",
    "    out_ref_values = tf.gather_nd(out_ref, out_ref_indices)\n",
    "    out_ref_sparse = tf.SparseTensor(out_ref_indices, out_ref_values,\n",
    "                                     dense_shape=tf.cast(tf.shape(out_ref), 'int64'))\n",
    "\n",
    "    out_ref_sparse = tf.cast(out_ref_sparse, dtype='int32')\n",
    "\n",
    "    return tf.nn.ctc_loss(labels=out_ref_sparse,\n",
    "                          inputs=logits,\n",
    "                          sequence_length=logits_length,\n",
    "                          preprocess_collapse_repeated=False,\n",
    "                          ctc_merge_repeated=True,\n",
    "                          time_major=False, )\n",
    "\n",
    "\n",
    "def translate(logits, logits_length,pad_ix=1,\n",
    "              decoder=tf.nn.ctc_greedy_decoder, **kwargs):\n",
    "    \"\"\"\n",
    "    Infers output sequence from logits trained with ctc loss\n",
    "    :param logits: translation logits, tensor float32[batch, time, voc_size]\n",
    "    :param logits_length: logit sequence lengths, tensor int[batch]\n",
    "    :param pad_ix: pads with this value after sequence end\n",
    "    :param decoder: tf.nn.ctc_greedy_decoder, tf.nn.ctc_beam_search_decoder or similar function.\n",
    "        Used as decoder(logits_time_major, logits_length, merge_repeated, **kwargs)[0][0]\n",
    "    :param kwargs: any parameters passed to decoder\n",
    "    :return: sequence of translation token ids, int[batch, time]\n",
    "    \"\"\"\n",
    "\n",
    "    logits_time_major = tf.transpose(logits, [1, 0, 2])\n",
    "\n",
    "    # sparse int [batch, time]\n",
    "    trans_sparse = decoder(\n",
    "                         logits_time_major,\n",
    "                         logits_length,\n",
    "                         merge_repeated=True,\n",
    "                         **kwargs)[0][0]\n",
    "\n",
    "    trans = tf.sparse_tensor_to_dense(trans_sparse, default_value=pad_ix)\n",
    "    return trans"
   ]
  },
  {
   "cell_type": "code",
   "execution_count": 16,
   "metadata": {},
   "outputs": [],
   "source": [
    "loss = compute_ctc_loss(logits, swipe_len_ph, reference_answers, eos_ix=EOS_ix)\n",
    "loss = tf.reduce_mean(loss)"
   ]
  },
  {
   "cell_type": "code",
   "execution_count": 17,
   "metadata": {},
   "outputs": [],
   "source": [
    "step = tf.train.AdamOptimizer(learning_rate=1e-4).minimize(loss)"
   ]
  },
  {
   "cell_type": "code",
   "execution_count": 18,
   "metadata": {},
   "outputs": [],
   "source": [
    "from IPython.display import clear_output\n",
    "import pandas as pd\n",
    "ewma = lambda x, span=10: pd.ewma(np.asarray(x), span=span)\n",
    "history = []\n",
    "sess.run(tf.global_variables_initializer())\n"
   ]
  },
  {
   "cell_type": "code",
   "execution_count": 19,
   "metadata": {
    "scrolled": false
   },
   "outputs": [
    {
     "data": {
      "image/png": "[encoded data removed]",
      "text/plain": [
       "<matplotlib.figure.Figure at 0x7f7f1cbbcf98>"
      ]
     },
     "metadata": {},
     "output_type": "display_data"
    },
    {
     "name": "stdout",
     "output_type": "stream",
     "text": [
      "31.751144\n"
     ]
    },
    {
     "data": {
      "image/png": "[encoded data removed]",
      "text/plain": [
       "<matplotlib.figure.Figure at 0x7f7f1cbd1e48>"
      ]
     },
     "metadata": {},
     "output_type": "display_data"
    },
    {
     "name": "stderr",
     "output_type": "stream",
     "text": [
      "  0%|          | 397/1000000 [07:55<332:36:45,  1.20s/it]"
     ]
    },
    {
     "ename": "KeyboardInterrupt",
     "evalue": "",
     "output_type": "error",
     "traceback": [
      "\u001b[0;31m---------------------------------------------------------------------------\u001b[0m",
      "\u001b[0;31mKeyboardInterrupt\u001b[0m                         Traceback (most recent call last)",
      "\u001b[0;32m<ipython-input-19-0f49d31d186a>\u001b[0m in \u001b[0;36m<module>\u001b[0;34m()\u001b[0m\n\u001b[1;32m      4\u001b[0m                             generate_batch(train_curves, batch_size=128),))\n\u001b[1;32m      5\u001b[0m \u001b[0;34m\u001b[0m\u001b[0m\n\u001b[0;32m----> 6\u001b[0;31m     \u001b[0mloss_t\u001b[0m \u001b[0;34m=\u001b[0m \u001b[0msess\u001b[0m\u001b[0;34m.\u001b[0m\u001b[0mrun\u001b[0m\u001b[0;34m(\u001b[0m\u001b[0;34m[\u001b[0m\u001b[0mloss\u001b[0m\u001b[0;34m,\u001b[0m \u001b[0mstep\u001b[0m\u001b[0;34m]\u001b[0m\u001b[0;34m,\u001b[0m \u001b[0mfeed\u001b[0m\u001b[0;34m)\u001b[0m\u001b[0;34m[\u001b[0m\u001b[0;36m0\u001b[0m\u001b[0;34m]\u001b[0m\u001b[0;34m\u001b[0m\u001b[0m\n\u001b[0m\u001b[1;32m      7\u001b[0m     \u001b[0mhistory\u001b[0m\u001b[0;34m.\u001b[0m\u001b[0mappend\u001b[0m\u001b[0;34m(\u001b[0m\u001b[0mloss_t\u001b[0m\u001b[0;34m)\u001b[0m\u001b[0;34m\u001b[0m\u001b[0m\n\u001b[1;32m      8\u001b[0m \u001b[0;34m\u001b[0m\u001b[0m\n",
      "\u001b[0;32m~/.local/lib/python3.5/site-packages/tensorflow/python/client/session.py\u001b[0m in \u001b[0;36mrun\u001b[0;34m(self, fetches, feed_dict, options, run_metadata)\u001b[0m\n\u001b[1;32m    887\u001b[0m     \u001b[0;32mtry\u001b[0m\u001b[0;34m:\u001b[0m\u001b[0;34m\u001b[0m\u001b[0m\n\u001b[1;32m    888\u001b[0m       result = self._run(None, fetches, feed_dict, options_ptr,\n\u001b[0;32m--> 889\u001b[0;31m                          run_metadata_ptr)\n\u001b[0m\u001b[1;32m    890\u001b[0m       \u001b[0;32mif\u001b[0m \u001b[0mrun_metadata\u001b[0m\u001b[0;34m:\u001b[0m\u001b[0;34m\u001b[0m\u001b[0m\n\u001b[1;32m    891\u001b[0m         \u001b[0mproto_data\u001b[0m \u001b[0;34m=\u001b[0m \u001b[0mtf_session\u001b[0m\u001b[0;34m.\u001b[0m\u001b[0mTF_GetBuffer\u001b[0m\u001b[0;34m(\u001b[0m\u001b[0mrun_metadata_ptr\u001b[0m\u001b[0;34m)\u001b[0m\u001b[0;34m\u001b[0m\u001b[0m\n",
      "\u001b[0;32m~/.local/lib/python3.5/site-packages/tensorflow/python/client/session.py\u001b[0m in \u001b[0;36m_run\u001b[0;34m(self, handle, fetches, feed_dict, options, run_metadata)\u001b[0m\n\u001b[1;32m   1118\u001b[0m     \u001b[0;32mif\u001b[0m \u001b[0mfinal_fetches\u001b[0m \u001b[0;32mor\u001b[0m \u001b[0mfinal_targets\u001b[0m \u001b[0;32mor\u001b[0m \u001b[0;34m(\u001b[0m\u001b[0mhandle\u001b[0m \u001b[0;32mand\u001b[0m \u001b[0mfeed_dict_tensor\u001b[0m\u001b[0;34m)\u001b[0m\u001b[0;34m:\u001b[0m\u001b[0;34m\u001b[0m\u001b[0m\n\u001b[1;32m   1119\u001b[0m       results = self._do_run(handle, final_targets, final_fetches,\n\u001b[0;32m-> 1120\u001b[0;31m                              feed_dict_tensor, options, run_metadata)\n\u001b[0m\u001b[1;32m   1121\u001b[0m     \u001b[0;32melse\u001b[0m\u001b[0;34m:\u001b[0m\u001b[0;34m\u001b[0m\u001b[0m\n\u001b[1;32m   1122\u001b[0m       \u001b[0mresults\u001b[0m \u001b[0;34m=\u001b[0m \u001b[0;34m[\u001b[0m\u001b[0;34m]\u001b[0m\u001b[0;34m\u001b[0m\u001b[0m\n",
      "\u001b[0;32m~/.local/lib/python3.5/site-packages/tensorflow/python/client/session.py\u001b[0m in \u001b[0;36m_do_run\u001b[0;34m(self, handle, target_list, fetch_list, feed_dict, options, run_metadata)\u001b[0m\n\u001b[1;32m   1315\u001b[0m     \u001b[0;32mif\u001b[0m \u001b[0mhandle\u001b[0m \u001b[0;32mis\u001b[0m \u001b[0;32mNone\u001b[0m\u001b[0;34m:\u001b[0m\u001b[0;34m\u001b[0m\u001b[0m\n\u001b[1;32m   1316\u001b[0m       return self._do_call(_run_fn, self._session, feeds, fetches, targets,\n\u001b[0;32m-> 1317\u001b[0;31m                            options, run_metadata)\n\u001b[0m\u001b[1;32m   1318\u001b[0m     \u001b[0;32melse\u001b[0m\u001b[0;34m:\u001b[0m\u001b[0;34m\u001b[0m\u001b[0m\n\u001b[1;32m   1319\u001b[0m       \u001b[0;32mreturn\u001b[0m \u001b[0mself\u001b[0m\u001b[0;34m.\u001b[0m\u001b[0m_do_call\u001b[0m\u001b[0;34m(\u001b[0m\u001b[0m_prun_fn\u001b[0m\u001b[0;34m,\u001b[0m \u001b[0mself\u001b[0m\u001b[0;34m.\u001b[0m\u001b[0m_session\u001b[0m\u001b[0;34m,\u001b[0m \u001b[0mhandle\u001b[0m\u001b[0;34m,\u001b[0m \u001b[0mfeeds\u001b[0m\u001b[0;34m,\u001b[0m \u001b[0mfetches\u001b[0m\u001b[0;34m)\u001b[0m\u001b[0;34m\u001b[0m\u001b[0m\n",
      "\u001b[0;32m~/.local/lib/python3.5/site-packages/tensorflow/python/client/session.py\u001b[0m in \u001b[0;36m_do_call\u001b[0;34m(self, fn, *args)\u001b[0m\n\u001b[1;32m   1321\u001b[0m   \u001b[0;32mdef\u001b[0m \u001b[0m_do_call\u001b[0m\u001b[0;34m(\u001b[0m\u001b[0mself\u001b[0m\u001b[0;34m,\u001b[0m \u001b[0mfn\u001b[0m\u001b[0;34m,\u001b[0m \u001b[0;34m*\u001b[0m\u001b[0margs\u001b[0m\u001b[0;34m)\u001b[0m\u001b[0;34m:\u001b[0m\u001b[0;34m\u001b[0m\u001b[0m\n\u001b[1;32m   1322\u001b[0m     \u001b[0;32mtry\u001b[0m\u001b[0;34m:\u001b[0m\u001b[0;34m\u001b[0m\u001b[0m\n\u001b[0;32m-> 1323\u001b[0;31m       \u001b[0;32mreturn\u001b[0m \u001b[0mfn\u001b[0m\u001b[0;34m(\u001b[0m\u001b[0;34m*\u001b[0m\u001b[0margs\u001b[0m\u001b[0;34m)\u001b[0m\u001b[0;34m\u001b[0m\u001b[0m\n\u001b[0m\u001b[1;32m   1324\u001b[0m     \u001b[0;32mexcept\u001b[0m \u001b[0merrors\u001b[0m\u001b[0;34m.\u001b[0m\u001b[0mOpError\u001b[0m \u001b[0;32mas\u001b[0m \u001b[0me\u001b[0m\u001b[0;34m:\u001b[0m\u001b[0;34m\u001b[0m\u001b[0m\n\u001b[1;32m   1325\u001b[0m       \u001b[0mmessage\u001b[0m \u001b[0;34m=\u001b[0m \u001b[0mcompat\u001b[0m\u001b[0;34m.\u001b[0m\u001b[0mas_text\u001b[0m\u001b[0;34m(\u001b[0m\u001b[0me\u001b[0m\u001b[0;34m.\u001b[0m\u001b[0mmessage\u001b[0m\u001b[0;34m)\u001b[0m\u001b[0;34m\u001b[0m\u001b[0m\n",
      "\u001b[0;32m~/.local/lib/python3.5/site-packages/tensorflow/python/client/session.py\u001b[0m in \u001b[0;36m_run_fn\u001b[0;34m(session, feed_dict, fetch_list, target_list, options, run_metadata)\u001b[0m\n\u001b[1;32m   1300\u001b[0m           return tf_session.TF_Run(session, options,\n\u001b[1;32m   1301\u001b[0m                                    \u001b[0mfeed_dict\u001b[0m\u001b[0;34m,\u001b[0m \u001b[0mfetch_list\u001b[0m\u001b[0;34m,\u001b[0m \u001b[0mtarget_list\u001b[0m\u001b[0;34m,\u001b[0m\u001b[0;34m\u001b[0m\u001b[0m\n\u001b[0;32m-> 1302\u001b[0;31m                                    status, run_metadata)\n\u001b[0m\u001b[1;32m   1303\u001b[0m \u001b[0;34m\u001b[0m\u001b[0m\n\u001b[1;32m   1304\u001b[0m     \u001b[0;32mdef\u001b[0m \u001b[0m_prun_fn\u001b[0m\u001b[0;34m(\u001b[0m\u001b[0msession\u001b[0m\u001b[0;34m,\u001b[0m \u001b[0mhandle\u001b[0m\u001b[0;34m,\u001b[0m \u001b[0mfeed_dict\u001b[0m\u001b[0;34m,\u001b[0m \u001b[0mfetch_list\u001b[0m\u001b[0;34m)\u001b[0m\u001b[0;34m:\u001b[0m\u001b[0;34m\u001b[0m\u001b[0m\n",
      "\u001b[0;31mKeyboardInterrupt\u001b[0m: "
     ]
    }
   ],
   "source": [
    "from tqdm import trange\n",
    "for i in trange(1000000):\n",
    "    feed = dict(zip((swipe_ph, swipe_len_ph, reference_answers),\n",
    "                            generate_batch(train_curves, batch_size=128),))\n",
    "    \n",
    "    loss_t = sess.run([loss, step], feed)[0]\n",
    "    history.append(loss_t)\n",
    "    \n",
    "    if i % 100 == 0:\n",
    "        clear_output(True)\n",
    "        plt.scatter(np.arange(len(history)), history, alpha=0.2)\n",
    "        plt.plot(ewma(history, span=10), label='loss_ewma@10')\n",
    "        plt.plot(ewma(history, span=100), label='loss_ewma@100')\n",
    "        plt.legend(loc='best')\n",
    "        plt.yscale('log')\n",
    "        plt.grid()\n",
    "        plt.show()\n",
    "        print(np.mean(history[-100:]))\n",
    "        plt.figure(figsize=[14,4])\n",
    "        _p, _len = sess.run([tf.nn.softmax(logits), swipe_len_ph], feed)\n",
    "        plt.imshow(_p[0, :_len[0]].T)\n",
    "        plt.show()\n"
   ]
  },
  {
   "cell_type": "code",
   "execution_count": null,
   "metadata": {},
   "outputs": [],
   "source": [
    "translate(logits, tf.to_int32(swipe_len_ph), pad_ix=EOS_ix, decoder=tf.nn.ctc_greedy_decoder ).eval(feed)[0]"
   ]
  },
  {
   "cell_type": "code",
   "execution_count": null,
   "metadata": {},
   "outputs": [],
   "source": [
    "translate(logits, tf.to_int32(swipe_len_ph), pad_ix=EOS_ix, decoder=tf.nn.ctc_beam_search_decoder ).eval(feed)[0]"
   ]
  },
  {
   "cell_type": "code",
   "execution_count": null,
   "metadata": {},
   "outputs": [],
   "source": [
    "reference_answers.eval(feed)[0]"
   ]
  },
  {
   "cell_type": "code",
   "execution_count": null,
   "metadata": {},
   "outputs": [],
   "source": [
    "[tokens[i] for i in _265[0]]"
   ]
  },
  {
   "cell_type": "code",
   "execution_count": null,
   "metadata": {},
   "outputs": [],
   "source": []
  },
  {
   "cell_type": "code",
   "execution_count": null,
   "metadata": {},
   "outputs": [],
   "source": [
    "plt.imshow(tf.nn.softmax(logits).eval()[0][:20])"
   ]
  },
  {
   "cell_type": "code",
   "execution_count": null,
   "metadata": {},
   "outputs": [],
   "source": [
    "translate(logits, tf.to_int32(swipe_len_ph), pad_ix=EOS_ix, decoder=tf.nn.ctc_beam_search_decoder ).eval()"
   ]
  },
  {
   "cell_type": "code",
   "execution_count": null,
   "metadata": {},
   "outputs": [],
   "source": [
    "curve"
   ]
  }
 ],
 "metadata": {
  "kernelspec": {
   "display_name": "Python 3",
   "language": "python",
   "name": "python3"
  },
  "language_info": {
   "codemirror_mode": {
    "name": "ipython",
    "version": 3
   },
   "file_extension": ".py",
   "mimetype": "text/x-python",
   "name": "python",
   "nbconvert_exporter": "python",
   "pygments_lexer": "ipython3",
   "version": "3.5.2"
  }
 },
 "nbformat": 4,
 "nbformat_minor": 2
}
