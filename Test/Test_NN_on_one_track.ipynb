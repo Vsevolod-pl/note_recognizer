{
 "cells": [
  {
   "cell_type": "code",
   "execution_count": 1,
   "metadata": {},
   "outputs": [
    {
     "name": "stderr",
     "output_type": "stream",
     "text": [
      "Using TensorFlow backend.\n"
     ]
    }
   ],
   "source": [
    "import librosa\n",
    "import keras\n",
    "import keras.layers as L\n",
    "import pandas as pd\n",
    "import matplotlib.pyplot as plt\n",
    "%matplotlib inline\n",
    "import numpy as np\n",
    "import pickle\n",
    "import os\n",
    "import random\n",
    "import bisect"
   ]
  },
  {
   "cell_type": "code",
   "execution_count": 2,
   "metadata": {
    "collapsed": true
   },
   "outputs": [],
   "source": [
    "def generate_batch(time_step,k):\n",
    "    startMid = random.randint(generator.time[0],int(generator.time[-1]-time_step*sr*k))\n",
    "    stopMid = int(startMid + time_step*sr*k)\n",
    "    \n",
    "    startSpectr=int(startMid/(k*hop_len))\n",
    "    stopSpectr=int(startSpectr+time_step*sr/(hop_len))\n",
    "    \n",
    "    out1 = spectrogram[:,startSpectr:stopSpectr].transpose().reshape(1,int(time_step*sr/(hop_len)),128)\n",
    "    out2 = np.array(generator.get_notes_in_interval(startMid,stopMid)).reshape(1, 128)\n",
    "    return out1, out2"
   ]
  },
  {
   "cell_type": "code",
   "execution_count": 3,
   "metadata": {
    "collapsed": true
   },
   "outputs": [],
   "source": [
    "from segment_tree import SegmentTree\n",
    "class NotesInInteval:\n",
    "    num_notes = 127+1\n",
    "    \n",
    "    def __init__(self):\n",
    "        pass\n",
    "    \n",
    "    @classmethod\n",
    "    def load(cls, filename):\n",
    "        obj = cls()\n",
    "        \n",
    "        ev = pd.read_csv(filename)\n",
    "        notes=[]\n",
    "        for i in range(len(ev[\"type\"])):\n",
    "            notes.append([ev[\"pitch\"][i], ev[\"type\"][i], ev[\"tick\"][i]])\n",
    "        notes = sorted(notes, key=lambda note: note[2])\n",
    "        \n",
    "        c = cls.num_notes\n",
    "        n = int(len(notes)/2)\n",
    "        \n",
    "        M = [[0 for i in range(2*n)] for j in range(c)]\n",
    "        bal = [0 for i in range(c)]\n",
    "        obj.time = []\n",
    "        for i in range(2*n):\n",
    "            if(str(notes[i][1]) == 'True'):\n",
    "                bal[notes[i][0]] += 1\n",
    "            else:\n",
    "                bal[notes[i][0]] -= 1\n",
    "            M[notes[i][0]][i] = bal[notes[i][0]]\n",
    "            obj.time.append(notes[i][2])\n",
    "        \n",
    "        obj.M_st = [SegmentTree(i) for i in M]\n",
    "        \n",
    "        return obj\n",
    "        \n",
    "    def get_notes_in_interval(self, start, stop):\n",
    "        if(start > stop):\n",
    "            (start, stop) = (stop, start)\n",
    "        start_index = 0\n",
    "        stop_index = len(self.time)-1\n",
    "\n",
    "        if(start >= self.time[0]):\n",
    "            start_index = bisect.bisect_left(self.time,\n",
    "                                             self.time[bisect.bisect_right(self.time, start)-1])\n",
    "\n",
    "        if(stop >= self.time[0]):\n",
    "            stop_index = bisect.bisect_left(self.time,\n",
    "                                            self.time[bisect.bisect_right(self.time, stop)-1])\n",
    "\n",
    "        plnotes = (self.M_st[i].query(start_index, stop_index, \"max\") for i in range(self.num_notes))\n",
    "        plnotes = [min(x, 1) for x in plnotes]\n",
    "\n",
    "        return plnotes"
   ]
  },
  {
   "cell_type": "code",
   "execution_count": 64,
   "metadata": {
    "collapsed": true
   },
   "outputs": [],
   "source": [
    "time_step = 5 #seconds\n",
    "hop_len = 512\n",
    "sr = 22050\n",
    "model=keras.models.Sequential()\n",
    "model.add(L.InputLayer(input_shape=(int(time_step*sr/(hop_len)),128)))#128,215)))\n",
    "model.add(L.Conv1D(256,6, padding='same'))\n",
    "model.add(L.Conv1D(256,3, padding='same'))\n",
    "model.add(L.GlobalMaxPool1D())\n",
    "model.add(L.Dense(512,activation='relu'))\n",
    "model.add(L.Dense(256, activation='relu'))\n",
    "model.add(L.Dense(128, activation='sigmoid'))"
   ]
  },
  {
   "cell_type": "code",
   "execution_count": 65,
   "metadata": {
    "collapsed": true
   },
   "outputs": [],
   "source": [
    "model.compile(optimizer='SGD',loss='binary_crossentropy')"
   ]
  },
  {
   "cell_type": "code",
   "execution_count": 6,
   "metadata": {
    "collapsed": true
   },
   "outputs": [],
   "source": [
    "from IPython.display import clear_output\n",
    "class PlotLosses(keras.callbacks.Callback):\n",
    "    def on_train_begin(self, logs={}):\n",
    "        self.i = 0\n",
    "        self.x = []\n",
    "        self.losses = []\n",
    "        self.val_losses = []\n",
    "        \n",
    "        #self.fig = plt.figure()\n",
    "        \n",
    "        self.logs = []\n",
    "\n",
    "    def on_epoch_end(self, epoch, logs={}):\n",
    "        \n",
    "        self.logs.append(logs)\n",
    "        self.x.append(self.i)\n",
    "        self.losses.append(logs.get('loss'))\n",
    "        self.val_losses.append(logs.get('val_loss'))\n",
    "        self.i += 1\n",
    "\n",
    "        \"\"\"clear_output(wait=True)\n",
    "        plt.plot(self.x, self.losses, label=\"loss\")\n",
    "        plt.plot(self.x, self.val_losses, label=\"val_loss\")\n",
    "        plt.legend()\n",
    "        plt.show();\"\"\"\n",
    "        \n",
    "plot_losses = PlotLosses()"
   ]
  },
  {
   "cell_type": "code",
   "execution_count": 75,
   "metadata": {
    "collapsed": true
   },
   "outputs": [],
   "source": [
    "y, sr = librosa.load(\"/home/jheuristic/data/Test/wav/009count.mid.wav\")\n",
    "generator=pickle.load(open('/home/jheuristic/data/Test/pickles/009count.mid.pckl','rb'))"
   ]
  },
  {
   "cell_type": "code",
   "execution_count": 8,
   "metadata": {
    "collapsed": true
   },
   "outputs": [],
   "source": [
    "spectrogram=librosa.feature.melspectrogram(y,sr,hop_length=hop_len)\n",
    "k = generator.time[-1]/len(y) #1 second/sr in midi "
   ]
  },
  {
   "cell_type": "code",
   "execution_count": 10,
   "metadata": {
    "collapsed": true
   },
   "outputs": [],
   "source": [
    "for i in range(1000):\n",
    "    x,y=generate_batch(time_step,k)\n",
    "    model.fit(x,y,callbacks=[plot_losses],epochs=1,verbose=0)"
   ]
  },
  {
   "cell_type": "code",
   "execution_count": 24,
   "metadata": {},
   "outputs": [
    {
     "data": {
      "text/plain": [
       "((1, 215, 128), (1, 128))"
      ]
     },
     "execution_count": 24,
     "metadata": {},
     "output_type": "execute_result"
    }
   ],
   "source": [
    "x,y=generate_batch(time_step,k)\n",
    "x.shape, y.shape"
   ]
  },
  {
   "cell_type": "code",
   "execution_count": 25,
   "metadata": {},
   "outputs": [
    {
     "data": {
      "text/plain": [
       "array([[0, 0, 0, 0, 0, 0, 0, 0, 0, 0, 0, 0, 0, 0, 0, 0, 0, 0, 0, 0, 0, 0,\n",
       "        0, 0, 0, 0, 1, 0, 1, 0, 0, 1, 0, 1, 0, 0, 1, 0, 1, 0, 0, 0, 1, 0,\n",
       "        1, 0, 1, 0, 0, 0, 0, 0, 0, 0, 0, 0, 0, 1, 0, 0, 0, 0, 0, 0, 0, 0,\n",
       "        0, 0, 0, 0, 0, 0, 0, 0, 0, 0, 0, 0, 0, 0, 0, 0, 0, 0, 0, 0, 0, 0,\n",
       "        0, 0, 0, 0, 0, 0, 0, 0, 0, 0, 0, 0, 0, 0, 0, 0, 0, 0, 0, 0, 0, 0,\n",
       "        0, 0, 0, 0, 0, 0, 0, 0, 0, 0, 0, 0, 0, 0, 0, 0, 0, 0]])"
      ]
     },
     "execution_count": 25,
     "metadata": {},
     "output_type": "execute_result"
    }
   ],
   "source": [
    "x,y=generate_batch(time_step,k)"
   ]
  },
  {
   "cell_type": "code",
   "execution_count": 28,
   "metadata": {},
   "outputs": [
    {
     "data": {
      "text/plain": [
       "[(1, 3, 5), (2, 4, 6)]"
      ]
     },
     "execution_count": 28,
     "metadata": {},
     "output_type": "execute_result"
    }
   ],
   "source": [
    "list(zip([1,2], [3,4], [5,6]))"
   ]
  },
  {
   "cell_type": "code",
   "execution_count": 39,
   "metadata": {
    "collapsed": true
   },
   "outputs": [],
   "source": [
    "x_batch, y_batch = map(np.concatenate, zip(*[generate_batch(time_step, k) for i in range(10)]))"
   ]
  },
  {
   "cell_type": "code",
   "execution_count": 40,
   "metadata": {},
   "outputs": [
    {
     "data": {
      "text/plain": [
       "(10, 215, 128)"
      ]
     },
     "execution_count": 40,
     "metadata": {},
     "output_type": "execute_result"
    }
   ],
   "source": [
    "x_batch.shape"
   ]
  },
  {
   "cell_type": "code",
   "execution_count": 45,
   "metadata": {
    "collapsed": true
   },
   "outputs": [],
   "source": [
    "loss=[]\n",
    "for i in range(1000):\n",
    "    loss.append(model.train_on_batch(x_batch,y_batch))"
   ]
  },
  {
   "cell_type": "code",
   "execution_count": 66,
   "metadata": {
    "collapsed": true
   },
   "outputs": [],
   "source": [
    "a=model.predict(x_batch,batch_size=10)"
   ]
  },
  {
   "cell_type": "code",
   "execution_count": 79,
   "metadata": {
    "collapsed": true
   },
   "outputs": [],
   "source": [
    "def generate_for_test(time_step,startTime):\n",
    "    startSpectr= int(startTime*sr/(hop_len)) #int(startMid/(k*hop_len))\n",
    "    stopSpectr=int(startSpectr+time_step*sr/(hop_len))\n",
    "    \n",
    "    out1 = spectrogram[:,startSpectr:stopSpectr].transpose().reshape(1,int(time_step*sr/(hop_len)),128)\n",
    "    return out1"
   ]
  },
  {
   "cell_type": "code",
   "execution_count": 80,
   "metadata": {
    "collapsed": true
   },
   "outputs": [],
   "source": [
    "notes=np.zeros((int(len(y)/(sr*time_step)),128))\n",
    "for i in range(int(len(y)/(sr*time_step))):\n",
    "    notes[i] = model.predict(generate_for_test(time_step,i/2))[0]"
   ]
  },
  {
   "cell_type": "code",
   "execution_count": null,
   "metadata": {
    "collapsed": true
   },
   "outputs": [],
   "source": [
    "plt.figure(figsize=(24,8))\n",
    "plt.imshow(notes.transpose())"
   ]
  },
  {
   "cell_type": "code",
   "execution_count": 67,
   "metadata": {},
   "outputs": [
    {
     "data": {
      "text/plain": [
       "0.49921874999999999"
      ]
     },
     "execution_count": 67,
     "metadata": {},
     "output_type": "execute_result"
    }
   ],
   "source": [
    "np.mean(np.asarray(a>0.5,dtype=y_batch.dtype) == y_batch)"
   ]
  },
  {
   "cell_type": "code",
   "execution_count": 88,
   "metadata": {},
   "outputs": [
    {
     "data": {
      "text/plain": [
       "-17"
      ]
     },
     "execution_count": 88,
     "metadata": {},
     "output_type": "execute_result"
    }
   ],
   "source": [
    "len(y)-len(spectrogram.transpose())*hop_len"
   ]
  }
 ],
 "metadata": {
  "kernelspec": {
   "display_name": "Python 3",
   "language": "python",
   "name": "python3"
  },
  "language_info": {
   "codemirror_mode": {
    "name": "ipython",
    "version": 3
   },
   "file_extension": ".py",
   "mimetype": "text/x-python",
   "name": "python",
   "nbconvert_exporter": "python",
   "pygments_lexer": "ipython3",
   "version": "3.6.2"
  }
 },
 "nbformat": 4,
 "nbformat_minor": 2
}
