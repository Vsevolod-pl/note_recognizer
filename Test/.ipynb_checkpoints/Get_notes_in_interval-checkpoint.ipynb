{
 "cells": [
  {
   "cell_type": "code",
   "execution_count": 6,
   "metadata": {
    "collapsed": true
   },
   "outputs": [],
   "source": [
    "#import theano\n",
    "#import librosa\n",
    "#import matplotlib.pyplot as plt\n",
    "import pandas as pd\n",
    "from segment_tree import SegmentTree\n",
    "import bisect\n",
    "import pickle"
   ]
  },
  {
   "cell_type": "code",
   "execution_count": 4,
   "metadata": {},
   "outputs": [
    {
     "name": "stdout",
     "output_type": "stream",
     "text": [
      "Collecting segment-tree\n",
      "  Using cached segment_tree-0.3.2-py3-none-any.whl\n",
      "Installing collected packages: segment-tree\n",
      "Successfully installed segment-tree-0.3.2\n",
      "\u001b[33mYou are using pip version 9.0.1, however version 9.0.3 is available.\n",
      "You should consider upgrading via the 'pip install --upgrade pip' command.\u001b[0m\n"
     ]
    }
   ],
   "source": [
    "!pip install segment-tree --user\n",
    "import sys\n",
    "sys.path.insert(0, \"/home/jheuristic/.local/lib/python3.6/site-packages/\")"
   ]
  },
  {
   "cell_type": "code",
   "execution_count": 2,
   "metadata": {
    "collapsed": true
   },
   "outputs": [],
   "source": [
    "fileName='009count.mid'"
   ]
  },
  {
   "cell_type": "code",
   "execution_count": null,
   "metadata": {
    "collapsed": true
   },
   "outputs": [],
   "source": [
    "\"\"\"y, sr = librosa.load(filename+\".mp3\")\n",
    "step=sr*25.0/1000\n",
    "step=int(step)\n",
    "spectrogram=librosa.feature.melspectrogram(y,sr,n_mels=64,hop_length=step)\n",
    "ev=pd.read_csv(filename+\".csv\")# pitch|type|tick\n",
    "notes=[]\n",
    "for i in range(len(ev[\"type\"])):\n",
    "    notes.append([ev[\"pitch\"][i],ev[\"type\"][i],ev[\"tick\"][i]])\n",
    "notes=sorted(notes,key=lambda note: note[2])\n",
    "c=127+1\n",
    "n=int(len(notes)/2)\n",
    "M=[[0 for i in range(2*n)] for j in range(c)]\n",
    "bal=[0 for i in range(c)]\n",
    "time=[]\"\"\""
   ]
  },
  {
   "cell_type": "code",
   "execution_count": null,
   "metadata": {
    "collapsed": true
   },
   "outputs": [],
   "source": [
    "\"\"\"for i in range(2*n):\n",
    "    if(notes[i][1]=='True'):\n",
    "        bal[notes[i][0]]+=1\n",
    "    else:\n",
    "        bal[notes[i][0]]-=1\n",
    "    M[notes[i][0]][i]=bal[notes[i][0]]\n",
    "    time.append(notes[i][2])\n",
    "M_st = [SegmentTree(i) for i in M]\"\"\""
   ]
  },
  {
   "cell_type": "code",
   "execution_count": 69,
   "metadata": {
    "collapsed": true
   },
   "outputs": [],
   "source": [
    "class MyClass:\n",
    "    \n",
    "    c = 127+1\n",
    "    \n",
    "    def __init__(self):\n",
    "        self.elf=\"elf\"\n",
    "    \n",
    "    def doit(self, x):\n",
    "        print(self)\n",
    "        print(self.elf, x)\n",
    "        \n",
    "    @staticmethod\n",
    "    def doit_statically(x):\n",
    "        print(x)\n",
    "        \n",
    "    @classmethod\n",
    "    def doit_just_doit(cls, x):\n",
    "        print(cls.c)\n",
    "        cls.doit_statically(x)\n"
   ]
  },
  {
   "cell_type": "code",
   "execution_count": 64,
   "metadata": {},
   "outputs": [
    {
     "name": "stdout",
     "output_type": "stream",
     "text": [
      "<__main__.MyClass object at 0x7f19c7d552b0>\n",
      "elf 1\n"
     ]
    }
   ],
   "source": [
    "cc = MyClass()\n",
    "cc.doit(1)"
   ]
  },
  {
   "cell_type": "code",
   "execution_count": 70,
   "metadata": {},
   "outputs": [
    {
     "name": "stdout",
     "output_type": "stream",
     "text": [
      "128\n",
      "1\n"
     ]
    }
   ],
   "source": [
    "MyClass.doit_just_doit(1)"
   ]
  },
  {
   "cell_type": "code",
   "execution_count": 53,
   "metadata": {},
   "outputs": [
    {
     "name": "stdout",
     "output_type": "stream",
     "text": [
      "elf 5\n"
     ]
    }
   ],
   "source": [
    "MyClass.doit(cc, 5)"
   ]
  },
  {
   "cell_type": "code",
   "execution_count": 50,
   "metadata": {},
   "outputs": [
    {
     "name": "stdout",
     "output_type": "stream",
     "text": [
      "(<__main__.MyClass object at 0x7f19c7e4b208>, 5)\n"
     ]
    },
    {
     "ename": "NameError",
     "evalue": "name 'x' is not defined",
     "output_type": "error",
     "traceback": [
      "\u001b[0;31m---------------------------------------------------------------------------\u001b[0m",
      "\u001b[0;31mNameError\u001b[0m                                 Traceback (most recent call last)",
      "\u001b[0;32m<ipython-input-50-ee3bdfc99c3f>\u001b[0m in \u001b[0;36m<module>\u001b[0;34m()\u001b[0m\n\u001b[0;32m----> 1\u001b[0;31m \u001b[0mcc\u001b[0m\u001b[0;34m.\u001b[0m\u001b[0mdoit_statically\u001b[0m\u001b[0;34m(\u001b[0m\u001b[0;36m5\u001b[0m\u001b[0;34m)\u001b[0m\u001b[0;34m\u001b[0m\u001b[0m\n\u001b[0m",
      "\u001b[0;32m<ipython-input-48-6ec8dbaaa9c0>\u001b[0m in \u001b[0;36mdoit_statically\u001b[0;34m(*args)\u001b[0m\n\u001b[1;32m     11\u001b[0m     \u001b[0;32mdef\u001b[0m \u001b[0mdoit_statically\u001b[0m\u001b[0;34m(\u001b[0m\u001b[0;34m*\u001b[0m\u001b[0margs\u001b[0m\u001b[0;34m)\u001b[0m\u001b[0;34m:\u001b[0m\u001b[0;34m\u001b[0m\u001b[0m\n\u001b[1;32m     12\u001b[0m         \u001b[0mprint\u001b[0m\u001b[0;34m(\u001b[0m\u001b[0margs\u001b[0m\u001b[0;34m)\u001b[0m\u001b[0;34m\u001b[0m\u001b[0m\n\u001b[0;32m---> 13\u001b[0;31m         \u001b[0mprint\u001b[0m\u001b[0;34m(\u001b[0m\u001b[0mx\u001b[0m\u001b[0;34m)\u001b[0m\u001b[0;34m\u001b[0m\u001b[0m\n\u001b[0m",
      "\u001b[0;31mNameError\u001b[0m: name 'x' is not defined"
     ]
    }
   ],
   "source": [
    "cc.doit_statically(5)"
   ]
  },
  {
   "cell_type": "code",
   "execution_count": 44,
   "metadata": {},
   "outputs": [
    {
     "name": "stdout",
     "output_type": "stream",
     "text": [
      "2\n"
     ]
    }
   ],
   "source": [
    "MyClass.doit_statically(2)"
   ]
  },
  {
   "cell_type": "code",
   "execution_count": null,
   "metadata": {
    "collapsed": true
   },
   "outputs": [],
   "source": [
    "class N:\n",
    "    def __(self, bla, bla2):\n",
    "        ...\n",
    "\n",
    "a = N.load()"
   ]
  },
  {
   "cell_type": "code",
   "execution_count": 4,
   "metadata": {
    "collapsed": true
   },
   "outputs": [],
   "source": [
    "class NotesInInteval:\n",
    "    num_notes = 127+1\n",
    "    \n",
    "    def __init__(self):\n",
    "        pass\n",
    "    \n",
    "    @classmethod\n",
    "    def load(cls, filename):\n",
    "        obj = cls()\n",
    "        \n",
    "        ev = pd.read_csv(filename)\n",
    "        notes=[]\n",
    "        for i in range(len(ev[\"type\"])):\n",
    "            notes.append([ev[\"pitch\"][i], ev[\"type\"][i], ev[\"tick\"][i]])\n",
    "        notes = sorted(notes, key=lambda note: note[2])\n",
    "        \n",
    "        c = cls.num_notes\n",
    "        n = int(len(notes)/2)\n",
    "        \n",
    "        M = [[0 for i in range(2*n)] for j in range(c)]\n",
    "        bal = [0 for i in range(c)]\n",
    "        obj.time = []\n",
    "        for i in range(2*n):\n",
    "            if(str(notes[i][1]) == 'True'):\n",
    "                bal[notes[i][0]] += 1\n",
    "            else:\n",
    "                bal[notes[i][0]] -= 1\n",
    "            M[notes[i][0]][i] = bal[notes[i][0]]\n",
    "            obj.time.append(notes[i][2])\n",
    "        \n",
    "        obj.M_st = [SegmentTree(i) for i in M]\n",
    "        \n",
    "        return obj\n",
    "        \n",
    "    def get_notes_in_interval(self, start, stop):\n",
    "        if(start > stop):\n",
    "            (start, stop) = (stop, start)\n",
    "        start_index = 0\n",
    "        stop_index = len(self.time)-1\n",
    "\n",
    "        if(start >= self.time[0]):\n",
    "            start_index = bisect.bisect_left(self.time,\n",
    "                                             self.time[bisect.bisect_right(self.time, start)-1])\n",
    "\n",
    "        if(stop >= self.time[0]):\n",
    "            stop_index = bisect.bisect_left(self.time,\n",
    "                                            self.time[bisect.bisect_right(self.time, stop)-1])\n",
    "\n",
    "        plnotes = (self.M_st[i].query(start_index, stop_index, \"max\") for i in range(self.num_notes))\n",
    "        plnotes = [min(x, 1) for x in plnotes]\n",
    "\n",
    "        return plnotes"
   ]
  },
  {
   "cell_type": "code",
   "execution_count": 11,
   "metadata": {
    "collapsed": true
   },
   "outputs": [],
   "source": [
    "a=NotesInInteval.load(\"csvs/009count.mid.csv\")"
   ]
  },
  {
   "cell_type": "code",
   "execution_count": 10,
   "metadata": {},
   "outputs": [
    {
     "name": "stdout",
     "output_type": "stream",
     "text": [
      "\u001b[0m\u001b[01;34mcsvs\u001b[0m/                        \u001b[01;34mmidies_flat\u001b[0m/  noteRecognition_Keras.ipynb\r\n",
      "Get_notes_in_interval.ipynb  \u001b[01;34mmp3\u001b[0m/          \u001b[01;34mpicles\u001b[0m/\r\n"
     ]
    }
   ],
   "source": [
    "ls"
   ]
  },
  {
   "cell_type": "code",
   "execution_count": 126,
   "metadata": {
    "collapsed": true
   },
   "outputs": [
    {
     "data": {
      "text/plain": [
       "[0,\n",
       " 0,\n",
       " 0,\n",
       " 0,\n",
       " 0,\n",
       " 0,\n",
       " 0,\n",
       " 0,\n",
       " 0,\n",
       " 0,\n",
       " 0,\n",
       " 0,\n",
       " 0,\n",
       " 0,\n",
       " 0,\n",
       " 0,\n",
       " 0,\n",
       " 0,\n",
       " 0,\n",
       " 0,\n",
       " 0,\n",
       " 0,\n",
       " 0,\n",
       " 1,\n",
       " 1,\n",
       " 0,\n",
       " 1,\n",
       " 0,\n",
       " 1,\n",
       " 1,\n",
       " 1,\n",
       " 1,\n",
       " 0,\n",
       " 1,\n",
       " 0,\n",
       " 0,\n",
       " 1,\n",
       " 0,\n",
       " 1,\n",
       " 0,\n",
       " 0,\n",
       " 0,\n",
       " 1,\n",
       " 1,\n",
       " 1,\n",
       " 1,\n",
       " 1,\n",
       " 1,\n",
       " 1,\n",
       " 1,\n",
       " 1,\n",
       " 0,\n",
       " 1,\n",
       " 1,\n",
       " 1,\n",
       " 1,\n",
       " 0,\n",
       " 1,\n",
       " 0,\n",
       " 1,\n",
       " 1,\n",
       " 0,\n",
       " 1,\n",
       " 1,\n",
       " 1,\n",
       " 1,\n",
       " 1,\n",
       " 1,\n",
       " 0,\n",
       " 1,\n",
       " 0,\n",
       " 1,\n",
       " 1,\n",
       " 0,\n",
       " 1,\n",
       " 0,\n",
       " 1,\n",
       " 1,\n",
       " 1,\n",
       " 1,\n",
       " 0,\n",
       " 1,\n",
       " 1,\n",
       " 1,\n",
       " 1,\n",
       " 0,\n",
       " 1,\n",
       " 0,\n",
       " 1,\n",
       " 0,\n",
       " 1,\n",
       " 1,\n",
       " 0,\n",
       " 1,\n",
       " 0,\n",
       " 1,\n",
       " 1,\n",
       " 0,\n",
       " 1,\n",
       " 0,\n",
       " 0,\n",
       " 0,\n",
       " 0,\n",
       " 0,\n",
       " 0,\n",
       " 0,\n",
       " 0,\n",
       " 0,\n",
       " 0,\n",
       " 0,\n",
       " 0,\n",
       " 0,\n",
       " 0,\n",
       " 0,\n",
       " 0,\n",
       " 0,\n",
       " 0,\n",
       " 0,\n",
       " 0,\n",
       " 0,\n",
       " 0,\n",
       " 0,\n",
       " 0,\n",
       " 0,\n",
       " 0,\n",
       " 0,\n",
       " 0,\n",
       " 0]"
      ]
     },
     "execution_count": 126,
     "metadata": {},
     "output_type": "execute_result"
    }
   ],
   "source": [
    "a.get_notes_in_interval(0,33796)"
   ]
  },
  {
   "cell_type": "code",
   "execution_count": 13,
   "metadata": {
    "collapsed": true
   },
   "outputs": [],
   "source": [
    "pickle.dump(a,open('pickles/009count.mid.pckl','wb'))"
   ]
  },
  {
   "cell_type": "code",
   "execution_count": 122,
   "metadata": {
    "collapsed": true
   },
   "outputs": [],
   "source": [
    "c=128\n",
    "def loadfile(filename):\n",
    "    ev=pd.read_csv(\"Test/csvs/\"+filename+\".csv\")# pitch|type|tick\n",
    "    notes=[]\n",
    "    for i in range(len(ev[\"type\"])):\n",
    "        notes.append([ev[\"pitch\"][i],ev[\"type\"][i],ev[\"tick\"][i]])\n",
    "    notes=sorted(notes,key=lambda note: note[2])\n",
    "    c=127+1\n",
    "    n=int(len(notes)/2)\n",
    "    M=[[0 for i in range(2*n)] for j in range(c)]\n",
    "    bal=[0 for i in range(c)]\n",
    "    time=[]\n",
    "    for i in range(2*n):\n",
    "        if(str(notes[i][1])=='True'):\n",
    "            bal[notes[i][0]]+=1\n",
    "        else:\n",
    "            bal[notes[i][0]]-=1\n",
    "        M[notes[i][0]][i]=bal[notes[i][0]]\n",
    "        time.append(notes[i][2])\n",
    "    M_st = [SegmentTree(i) for i in M]\n",
    "    return (M_st,time)"
   ]
  },
  {
   "cell_type": "code",
   "execution_count": 4,
   "metadata": {
    "collapsed": true
   },
   "outputs": [],
   "source": [
    "def get_notes_in_interval(start,stop):\n",
    "    if(start>stop):\n",
    "        (start,stop)=(stop,start)\n",
    "    start_index=0\n",
    "    stop_index=len(time)-1\n",
    "    \n",
    "    if(start>=time[0]):\n",
    "        start_index = bisect.bisect_left(time, time[bisect.bisect_right(time, start)-1])\n",
    "                \n",
    "    if(stop>=time[0]):\n",
    "        stop_index = bisect.bisect_left(time, time[bisect.bisect_right(time, stop)-1])\n",
    "    \n",
    "    plnotes = (M_st[i].query(start_index, stop_index, \"max\") for i in range(c))\n",
    "    plnotes = [min(x, 1) for x in plnotes]\n",
    "    \n",
    "    return plnotes"
   ]
  },
  {
   "cell_type": "code",
   "execution_count": 120,
   "metadata": {
    "collapsed": true
   },
   "outputs": [],
   "source": [
    "if 1:\n",
    "    ev=pd.read_csv(\"Test/csvs/\"+fileName+\".csv\")# pitch|type|tick\n",
    "    notes=[]\n",
    "    for i in range(len(ev[\"type\"])):\n",
    "        notes.append([ev[\"pitch\"][i],ev[\"type\"][i],ev[\"tick\"][i]])\n",
    "    notes=sorted(notes,key=lambda note: note[2])\n",
    "    c=127+1\n",
    "    n=int(len(notes)/2)\n",
    "    M=[[0 for i in range(2*n)] for j in range(c)]\n",
    "    bal=[0 for i in range(c)]\n",
    "    time=[]\n",
    "    for i in range(2*n):\n",
    "        if(str(notes[i][1])=='True'):\n",
    "            bal[notes[i][0]]+=1\n",
    "        else:\n",
    "            bal[notes[i][0]]-=1\n",
    "        M[notes[i][0]][i]=bal[notes[i][0]]\n",
    "        time.append(notes[i][2])\n",
    "    M_st = [SegmentTree(i) for i in M]"
   ]
  },
  {
   "cell_type": "code",
   "execution_count": 121,
   "metadata": {},
   "outputs": [
    {
     "data": {
      "text/plain": [
       "1"
      ]
     },
     "execution_count": 121,
     "metadata": {},
     "output_type": "execute_result"
    }
   ],
   "source": [
    "max(get_notes_in_interval(1,33795))"
   ]
  },
  {
   "cell_type": "code",
   "execution_count": 21,
   "metadata": {},
   "outputs": [
    {
     "name": "stderr",
     "output_type": "stream",
     "text": [
      "bash: /opt/conda/anaconda3/lib/libtinfo.so.5: no version information available (required by bash)\n",
      "ffmpeg: /opt/conda/anaconda3/lib/libncursesw.so.5: no version information available (required by /usr/lib/x86_64-linux-gnu/libcaca.so.0)\n",
      "ffmpeg: /opt/conda/anaconda3/lib/libncursesw.so.5: no version information available (required by /usr/lib/x86_64-linux-gnu/libcaca.so.0)\n",
      "ffmpeg: /opt/conda/anaconda3/lib/libtinfo.so.5: no version information available (required by /usr/lib/x86_64-linux-gnu/libcaca.so.0)\n",
      "ffmpeg: /opt/conda/anaconda3/lib/libgomp.so.1: version `GOMP_4.0' not found (required by /usr/lib/x86_64-linux-gnu/libsoxr.so.0)\n"
     ]
    }
   ],
   "source": [
    "%%bash\n",
    "cd Test\n",
    "cd midies_flat/\n",
    "#timidity -Ow 009count.mid -o ../mp3/009count.mid.wav;\n",
    "ffmpeg -i ../mp3/009count.mid.wav -acodec libmp3lame ../mp3/009count.mid.mp3;"
   ]
  },
  {
   "cell_type": "code",
   "execution_count": 2,
   "metadata": {
    "collapsed": true
   },
   "outputs": [],
   "source": [
    "import os"
   ]
  },
  {
   "cell_type": "code",
   "execution_count": null,
   "metadata": {
    "collapsed": true
   },
   "outputs": [],
   "source": [
    "willdo=False\n",
    "for path, subdirs, files in os.walk('/home/jheuristic/data/csvs/'):\n",
    "    for file in files:\n",
    "        if(willdo):\n",
    "            NII=NotesInInteval.load(path+'/'+file)\n",
    "            pickle.dump(NII,open('/home/jheuristic/data/pickles/'+file[:-3]+'pckl','wb'))\n",
    "        else:\n",
    "            if(file=='7thsynth.mid.csv'):\n",
    "                willdo=True\n",
    "print('end')"
   ]
  },
  {
   "cell_type": "code",
   "execution_count": null,
   "metadata": {
    "collapsed": true
   },
   "outputs": [],
   "source": [
    "#Для каждого в csvs сделать NotesInInteval и сохранить в pickles\n",
    "#Сделать нейронку с binary-crossentropy на wav и pickle"
   ]
  },
  {
   "cell_type": "code",
   "execution_count": 8,
   "metadata": {
    "collapsed": true
   },
   "outputs": [],
   "source": [
    "exceptions=[]"
   ]
  },
  {
   "cell_type": "code",
   "execution_count": null,
   "metadata": {
    "collapsed": true
   },
   "outputs": [],
   "source": [
    "for path1, subdirs1, files1 in os.walk('/home/jheuristic/data/wav/'):\n",
    "    for file1 in files1:\n",
    "        try:\n",
    "            NII=NotesInInteval.load('/home/jheuristic/data/csvs/'+file1[:-3]+'csv')\n",
    "            pickle.dump(NII,open('/home/jheuristic/data/pickles/'+file1[:-3]+'pckl','wb'))\n",
    "        except Exception as e:\n",
    "            exceptions.append(e)"
   ]
  },
  {
   "cell_type": "code",
   "execution_count": 12,
   "metadata": {
    "scrolled": true
   },
   "outputs": [
    {
     "data": {
      "text/plain": [
       "[FileNotFoundError(\"File b'/home/jheuristic/data/csvs/012006b_.mid.csv' does not exist\"),\n",
       " FileNotFoundError(\"File b'/home/jheuristic/data/csvs/028900b_.mid.csv' does not exist\"),\n",
       " FileNotFoundError(\"File b'/home/jheuristic/data/csvs/011506b_.mid.csv' does not exist\"),\n",
       " FileNotFoundError(\"File b'/home/jheuristic/data/csvs/006005b_.mid.csv' does not exist\"),\n",
       " FileNotFoundError(\"File b'/home/jheuristic/data/csvs/017906b_.mid.csv' does not exist\"),\n",
       " FileNotFoundError(\"File b'/home/jheuristic/data/csvs/01.csv' does not exist\"),\n",
       " FileNotFoundError(\"File b'/home/jheuristic/data/csvs/024503b_.mid.csv' does not exist\"),\n",
       " FileNotFoundError(\"File b'/home/jheuristic/data/csvs/004803b_.mid.csv' does not exist\"),\n",
       " FileNotFoundError(\"File b'/home/jheuristic/data/csvs/027100b_.mid.csv' does not exist\"),\n",
       " FileNotFoundError(\"File b'/home/jheuristic/data/csvs/010107b_.mid.csv' does not exist\"),\n",
       " FileNotFoundError(\"File b'/home/jheuristic/data/csvs/017705bv.mid.csv' does not exist\"),\n",
       " FileNotFoundError(\"File b'/home/jheuristic/data/csvs/019705b_.mid.csv' does not exist\"),\n",
       " FileNotFoundError(\"File b'/home/jheuristic/data/csvs/040FeatEricaBaxter_-_DreamsLostWitnessRemix__SamCera_20120708165703.mid.csv' does not exist\"),\n",
       " FileNotFoundError(\"File b'/home/jheuristic/data/csvs/011205b_.mid.csv' does not exist\"),\n",
       " FileNotFoundError(\"File b'/home/jheuristic/data/csvs/-.csv' does not exist\"),\n",
       " FileNotFoundError(\"File b'/home/jheuristic/data/csvs/038600b_.mid.csv' does not exist\"),\n",
       " FileNotFoundError(\"File b'/home/jheuristic/data/csvs/Dreams.csv' does not exist\"),\n",
       " FileNotFoundError(\"File b'/home/jheuristic/data/csvs/004606bs.mid.csv' does not exist\"),\n",
       " FileNotFoundError(\"File b'/home/jheuristic/data/csvs/02.csv' does not exist\"),\n",
       " FileNotFoundError(\"File b'/home/jheuristic/data/csvs/019007ch.mid.csv' does not exist\"),\n",
       " FileNotFoundError(\"File b'/home/jheuristic/data/csvs/027900b_.mid.csv' does not exist\"),\n",
       " FileNotFoundError(\"File b'/home/jheuristic/data/csvs/003706b_.mid.csv' does not exist\"),\n",
       " FileNotFoundError(\"File b'/home/jheuristic/data/csvs/024310b_.mid.csv' does not exist\"),\n",
       " FileNotFoundError(\"File b'/home/jheuristic/data/csvs/014001b_.mid.csv' does not exist\"),\n",
       " FileNotFoundError(\"File b'/home/jheuristic/data/csvs/010306b_.mid.csv' does not exist\"),\n",
       " FileNotFoundError(\"File b'/home/jheuristic/data/csvs/Witness.csv' does not exist\"),\n",
       " FileNotFoundError(\"File b'/home/jheuristic/data/csvs/024410b_.mid.csv' does not exist\"),\n",
       " FileNotFoundError(\"File b'/home/jheuristic/data/csvs/006906ba.mid.csv' does not exist\"),\n",
       " FileNotFoundError(\"File b'/home/jheuristic/data/csvs/040_-_Ibiza_Dreams__J.D._20110615094526.mid.csv' does not exist\"),\n",
       " FileNotFoundError(\"File b'/home/jheuristic/data/csvs/Christe.csv' does not exist\"),\n",
       " FileNotFoundError(\"File b'/home/jheuristic/data/csvs/008707b_.mid.csv' does not exist\"),\n",
       " FileNotFoundError(\"File b'/home/jheuristic/data/csvs/03top.mid.csv' does not exist\"),\n",
       " FileNotFoundError(\"File b'/home/jheuristic/data/csvs/041000b_.mid.csv' does not exist\"),\n",
       " FileNotFoundError(\"File b'/home/jheuristic/data/csvs/034100b_.mid.csv' does not exist\"),\n",
       " FileNotFoundError(\"File b'/home/jheuristic/data/csvs/007011ch.mid.csv' does not exist\"),\n",
       " FileNotFoundError(\"File b'/home/jheuristic/data/csvs/040.csv' does not exist\"),\n",
       " FileNotFoundError(\"File b'/home/jheuristic/data/csvs/027500b_.mid.csv' does not exist\"),\n",
       " FileNotFoundError(\"File b'/home/jheuristic/data/csvs/019506b_.mid.csv' does not exist\"),\n",
       " FileNotFoundError(\"File b'/home/jheuristic/data/csvs/00eomatt.mid.csv' does not exist\"),\n",
       " FileNotFoundError(\"File b'/home/jheuristic/data/csvs/034400b_.mid.csv' does not exist\"),\n",
       " FileNotFoundError(\"File b'/home/jheuristic/data/csvs/032300b_.mid.csv' does not exist\"),\n",
       " FileNotFoundError(\"File b'/home/jheuristic/data/csvs/Feat.csv' does not exist\"),\n",
       " FileNotFoundError(\"File b'/home/jheuristic/data/csvs/03.csv' does not exist\"),\n",
       " FileNotFoundError(\"File b'/home/jheuristic/data/csvs/034600b_.mid.csv' does not exist\"),\n",
       " FileNotFoundError(\"File b'/home/jheuristic/data/csvs/Baxter.csv' does not exist\"),\n",
       " FileNotFoundError(\"File b'/home/jheuristic/data/csvs/041Viola.mid.csv' does not exist\"),\n",
       " FileNotFoundError(\"File b'/home/jheuristic/data/csvs/019710b_.mid.csv' does not exist\"),\n",
       " FileNotFoundError(\"File b'/home/jheuristic/data/csvs/009906b_.mid.csv' does not exist\"),\n",
       " FileNotFoundError(\"File b'/home/jheuristic/data/csvs/026100b_.mid.csv' does not exist\"),\n",
       " FileNotFoundError(\"File b'/home/jheuristic/data/csvs/Menuet.mid.csv' does not exist\"),\n",
       " FileNotFoundError(\"File b'/home/jheuristic/data/csvs/Remix).mid.csv' does not exist\"),\n",
       " FileNotFoundError(\"File b'/home/jheuristic/data/csvs/013702b_.mid.csv' does not exist\"),\n",
       " FileNotFoundError(\"File b'/home/jheuristic/data/csvs/Kyrie.csv' does not exist\"),\n",
       " FileNotFoundError(\"File b'/home/jheuristic/data/csvs/014004b_.mid.csv' does not exist\"),\n",
       " FileNotFoundError(\"File b'/home/jheuristic/data/csvs/036700b_.mid.csv' does not exist\"),\n",
       " FileNotFoundError(\"File b'/home/jheuristic/data/csvs/030200b_.mid.csv' does not exist\"),\n",
       " FileNotFoundError(\"File b'/home/jheuristic/data/csvs/009count.mid.csv' does not exist\"),\n",
       " FileNotFoundError(\"File b'/home/jheuristic/data/csvs/016506b_.mid.csv' does not exist\"),\n",
       " FileNotFoundError(\"File b'/home/jheuristic/data/csvs/009606b_.mid.csv' does not exist\"),\n",
       " FileNotFoundError(\"File b'/home/jheuristic/data/csvs/037300bv.mid.csv' does not exist\"),\n",
       " FileNotFoundError(\"File b'/home/jheuristic/data/csvs/Eleison.csv' does not exist\"),\n",
       " FileNotFoundError(\"File b'/home/jheuristic/data/csvs/029700b_.mid.csv' does not exist\"),\n",
       " FileNotFoundError(\"File b'/home/jheuristic/data/csvs/024440b_.mid.csv' does not exist\"),\n",
       " FileNotFoundError(\"File b'/home/jheuristic/data/csvs/013705b_.mid.csv' does not exist\"),\n",
       " FileNotFoundError(\"File b'/home/jheuristic/data/csvs/003907bv.mid.csv' does not exist\"),\n",
       " FileNotFoundError(\"File b'/home/jheuristic/data/csvs/004ElPiano1.mid.csv' does not exist\"),\n",
       " FileNotFoundError(\"File b'/home/jheuristic/data/csvs/00tbbos.mid.csv' does not exist\"),\n",
       " FileNotFoundError(\"File b'/home/jheuristic/data/csvs/025900b_.mid.csv' does not exist\"),\n",
       " FileNotFoundError(\"File b'/home/jheuristic/data/csvs/024417bv.mid.csv' does not exist\"),\n",
       " FileNotFoundError(\"File b'/home/jheuristic/data/csvs/036200b_.mid.csv' does not exist\"),\n",
       " FileNotFoundError(\"File b'/home/jheuristic/data/csvs/].csv' does not exist\"),\n",
       " FileNotFoundError(\"File b'/home/jheuristic/data/csvs/.mid.csv' does not exist\"),\n",
       " FileNotFoundError(\"File b'/home/jheuristic/data/csvs/Ibiza.csv' does not exist\"),\n",
       " FileNotFoundError(\"File b'/home/jheuristic/data/csvs/029800b_.mid.csv' does not exist\"),\n",
       " FileNotFoundError(\"File b'/home/jheuristic/data/csvs/Dreams.mid.csv' does not exist\"),\n",
       " FileNotFoundError(\"File b'/home/jheuristic/data/csvs/Erica.csv' does not exist\"),\n",
       " FileNotFoundError(\"File b'/home/jheuristic/data/csvs/024425b_.mid.csv' does not exist\"),\n",
       " FileNotFoundError(\"File b'/home/jheuristic/data/csvs/036500b_.mid.csv' does not exist\")]"
      ]
     },
     "execution_count": 12,
     "metadata": {},
     "output_type": "execute_result"
    }
   ],
   "source": [
    "exceptions"
   ]
  }
 ],
 "metadata": {
  "kernelspec": {
   "display_name": "Python 3",
   "language": "python",
   "name": "python3"
  },
  "language_info": {
   "codemirror_mode": {
    "name": "ipython",
    "version": 3
   },
   "file_extension": ".py",
   "mimetype": "text/x-python",
   "name": "python",
   "nbconvert_exporter": "python",
   "pygments_lexer": "ipython3",
   "version": "3.6.2"
  }
 },
 "nbformat": 4,
 "nbformat_minor": 2
}
