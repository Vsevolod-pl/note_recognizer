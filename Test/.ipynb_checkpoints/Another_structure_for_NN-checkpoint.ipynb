{
 "cells": [
  {
   "cell_type": "code",
   "execution_count": 1,
   "metadata": {},
   "outputs": [
    {
     "name": "stderr",
     "output_type": "stream",
     "text": [
      "Using TensorFlow backend.\n"
     ]
    }
   ],
   "source": [
    "import librosa\n",
    "import keras\n",
    "import keras.layers as L\n",
    "import pandas as pd\n",
    "import matplotlib.pyplot as plt\n",
    "%matplotlib inline\n",
    "import numpy as np\n",
    "import pickle\n",
    "import os\n",
    "import random\n",
    "import bisect"
   ]
  },
  {
   "cell_type": "code",
   "execution_count": 2,
   "metadata": {
    "collapsed": true
   },
   "outputs": [],
   "source": [
    "from segment_tree import SegmentTree\n",
    "class NotesInInteval:\n",
    "    num_notes = 127+1\n",
    "    \n",
    "    def __init__(self):\n",
    "        pass\n",
    "    \n",
    "    @classmethod\n",
    "    def load(cls, filename):\n",
    "        obj = cls()\n",
    "        \n",
    "        ev = pd.read_csv(filename)\n",
    "        notes=[]\n",
    "        for i in range(len(ev[\"type\"])):\n",
    "            notes.append([ev[\"pitch\"][i], ev[\"type\"][i], ev[\"tick\"][i]])\n",
    "        notes = sorted(notes, key=lambda note: note[2])\n",
    "        \n",
    "        c = cls.num_notes\n",
    "        n = int(len(notes)/2)\n",
    "        \n",
    "        M = [[0 for i in range(2*n)] for j in range(c)]\n",
    "        bal = [0 for i in range(c)]\n",
    "        obj.time = []\n",
    "        for i in range(2*n):\n",
    "            if(str(notes[i][1]) == 'True'):\n",
    "                bal[notes[i][0]] += 1\n",
    "            else:\n",
    "                bal[notes[i][0]] -= 1\n",
    "            M[notes[i][0]][i] = bal[notes[i][0]]\n",
    "            obj.time.append(notes[i][2])\n",
    "        \n",
    "        obj.M_st = [SegmentTree(i) for i in M]\n",
    "        \n",
    "        return obj\n",
    "        \n",
    "    def get_notes_in_interval(self, start, stop):\n",
    "        if(start > stop):\n",
    "            (start, stop) = (stop, start)\n",
    "        start_index = 0\n",
    "        stop_index = len(self.time)-1\n",
    "\n",
    "        if(start >= self.time[0]):\n",
    "            start_index = bisect.bisect_left(self.time,\n",
    "                                             self.time[bisect.bisect_right(self.time, start)-1])\n",
    "\n",
    "        if(stop >= self.time[0]):\n",
    "            stop_index = bisect.bisect_left(self.time,\n",
    "                                            self.time[bisect.bisect_right(self.time, stop)-1])\n",
    "\n",
    "        plnotes = (self.M_st[i].query(start_index, stop_index, \"max\") for i in range(self.num_notes))\n",
    "        plnotes = [min(x, 1) for x in plnotes]\n",
    "\n",
    "        return plnotes"
   ]
  },
  {
   "cell_type": "code",
   "execution_count": 13,
   "metadata": {
    "collapsed": true
   },
   "outputs": [],
   "source": [
    "def generate_sample(generator,spectrogram,time_step=5,hop_len = 512,sr = 22050):\n",
    "    k = generator.time[-1]/(len(spectrogram[0])*hop_len)\n",
    "    startMid = random.randint(generator.time[0],int(generator.time[-1]-time_step*sr*k))\n",
    "    stopMid = int(startMid + time_step*sr*k)\n",
    "    \n",
    "    startSpectr=int(startMid/(k*hop_len))\n",
    "    stopSpectr=int(startSpectr+time_step*sr/(hop_len))\n",
    "    \n",
    "    out1 = spectrogram[:,startSpectr:stopSpectr].transpose().reshape(1, 1, int(time_step*sr/(hop_len)),128)\n",
    "    out2 = np.array(generator.get_notes_in_interval(startMid,stopMid)).reshape(1, 128)\n",
    "    return out1, out2"
   ]
  },
  {
   "cell_type": "code",
   "execution_count": 3,
   "metadata": {
    "collapsed": true
   },
   "outputs": [],
   "source": [
    "time_step = 5 #seconds\n",
    "hop_len = 512\n",
    "sr = 22050\n",
    "model=keras.models.Sequential()\n",
    "model.add(L.InputLayer(input_shape=(1,int(time_step*sr/(hop_len)),128)))#128,215)))\n",
    "model.add(L.Conv2D(128,(16,16), padding='same'))\n",
    "model.add(L.Conv2D(128,(3,3), padding='same'))\n",
    "#model.add(L.GlobalMaxPool2D())\n",
    "model.add(L.Flatten())\n",
    "model.add(L.Dense(512,activation='relu'))\n",
    "model.add(L.Dense(256, activation='relu'))\n",
    "model.add(L.Dense(128, activation='sigmoid'))\n",
    "#model.add(L.GlobalMaxPool1D())"
   ]
  },
  {
   "cell_type": "code",
   "execution_count": 4,
   "metadata": {
    "collapsed": true
   },
   "outputs": [],
   "source": [
    "model.compile(optimizer='SGD',loss='binary_crossentropy')"
   ]
  },
  {
   "cell_type": "code",
   "execution_count": null,
   "metadata": {
    "collapsed": true
   },
   "outputs": [],
   "source": [
    "##load files\n",
    "itAlreadyWas=False\n",
    "Exceptions=[]\n",
    "strange_things=[]\n",
    "generators=[]\n",
    "spectrograms=[]\n",
    "count=0\n",
    "\n",
    "for path, subdirs, files in os.walk('/home/jheuristic/data/wav/'):\n",
    "    for file in files:\n",
    "        if(itAlreadyWas):\n",
    "            if(file == 'Grieg Piano Concerto op16 1mov.mid.wav'):\n",
    "                itAlreadyWas=False\n",
    "        else:\n",
    "            successfully_loaded=True\n",
    "            try:\n",
    "                wavfile = file\n",
    "                \n",
    "                stat_info_wav=os.stat(\"/home/jheuristic/data/wav/\"+wavfile)\n",
    "                stat_info_pickle=os.stat('/home/jheuristic/data/pickles/'+wavfile[:-3]+'pckl')\n",
    "                \n",
    "                if(stat_info_wav.st_size < 55737036 and stat_info_pickle.st_size < 34875879):\n",
    "                    y, sr = librosa.load(\"/home/jheuristic/data/wav/\"+wavfile)\n",
    "                    generator=pickle.load(open('/home/jheuristic/data/pickles/'+wavfile[:-3]+'pckl','rb'))\n",
    "                    count+=1\n",
    "                else:\n",
    "                    successfully_loaded=False\n",
    "                    \n",
    "            except Exception as e:\n",
    "                Exceptions.append(e)\n",
    "                successfully_loaded=False\n",
    "\n",
    "            if(successfully_loaded and max(generator.time) !=  min(generator.time)):\n",
    "                spectrograms.append(librosa.feature.melspectrogram(y,sr,hop_length=hop_len))\n",
    "                generators.append(generator)\n",
    "                \"\"\"if(len(generators)>10):\n",
    "                    break\"\"\"\n",
    "            elif (successfully_loaded and max(generator.time) ==  min(generator.time)):\n",
    "                strange_things.append(wavfile)"
   ]
  },
  {
   "cell_type": "code",
   "execution_count": 9,
   "metadata": {},
   "outputs": [
    {
     "data": {
      "text/plain": [
       "101"
      ]
     },
     "execution_count": 9,
     "metadata": {},
     "output_type": "execute_result"
    }
   ],
   "source": [
    "len(generators)"
   ]
  },
  {
   "cell_type": "code",
   "execution_count": 10,
   "metadata": {
    "collapsed": true
   },
   "outputs": [],
   "source": [
    "loss=[]"
   ]
  },
  {
   "cell_type": "code",
   "execution_count": 12,
   "metadata": {},
   "outputs": [
    {
     "ename": "NameError",
     "evalue": "name 'generate_sample' is not defined",
     "output_type": "error",
     "traceback": [
      "\u001b[0;31m---------------------------------------------------------------------------\u001b[0m",
      "\u001b[0;31mNameError\u001b[0m                                 Traceback (most recent call last)",
      "\u001b[0;32m<ipython-input-12-dc4a5435d6c0>\u001b[0m in \u001b[0;36m<module>\u001b[0;34m()\u001b[0m\n\u001b[1;32m      4\u001b[0m \u001b[0;32mfor\u001b[0m \u001b[0mcounter\u001b[0m \u001b[0;32min\u001b[0m \u001b[0mrange\u001b[0m\u001b[0;34m(\u001b[0m\u001b[0;36m200\u001b[0m\u001b[0;34m)\u001b[0m\u001b[0;34m:\u001b[0m\u001b[0;34m\u001b[0m\u001b[0m\n\u001b[1;32m      5\u001b[0m     \u001b[0mindexes\u001b[0m\u001b[0;34m=\u001b[0m\u001b[0mnp\u001b[0m\u001b[0;34m.\u001b[0m\u001b[0mrandom\u001b[0m\u001b[0;34m.\u001b[0m\u001b[0mrandint\u001b[0m\u001b[0;34m(\u001b[0m\u001b[0;36m0\u001b[0m\u001b[0;34m,\u001b[0m\u001b[0mlen\u001b[0m\u001b[0;34m(\u001b[0m\u001b[0mgenerators\u001b[0m\u001b[0;34m)\u001b[0m\u001b[0;34m,\u001b[0m\u001b[0;36m1\u001b[0m\u001b[0;34m)\u001b[0m\u001b[0;34m\u001b[0m\u001b[0m\n\u001b[0;32m----> 6\u001b[0;31m     \u001b[0mx_batch\u001b[0m\u001b[0;34m,\u001b[0m \u001b[0my_batch\u001b[0m \u001b[0;34m=\u001b[0m \u001b[0mmap\u001b[0m\u001b[0;34m(\u001b[0m\u001b[0mnp\u001b[0m\u001b[0;34m.\u001b[0m\u001b[0mconcatenate\u001b[0m\u001b[0;34m,\u001b[0m \u001b[0mzip\u001b[0m\u001b[0;34m(\u001b[0m\u001b[0;34m*\u001b[0m\u001b[0;34m[\u001b[0m\u001b[0mgenerate_sample\u001b[0m\u001b[0;34m(\u001b[0m\u001b[0mgenerators\u001b[0m\u001b[0;34m[\u001b[0m\u001b[0mi\u001b[0m\u001b[0;34m]\u001b[0m\u001b[0;34m,\u001b[0m\u001b[0mspectrograms\u001b[0m\u001b[0;34m[\u001b[0m\u001b[0mi\u001b[0m\u001b[0;34m]\u001b[0m\u001b[0;34m)\u001b[0m \u001b[0;32mfor\u001b[0m \u001b[0mi\u001b[0m \u001b[0;32min\u001b[0m \u001b[0mindexes\u001b[0m\u001b[0;34m]\u001b[0m\u001b[0;34m)\u001b[0m\u001b[0;34m)\u001b[0m\u001b[0;34m\u001b[0m\u001b[0m\n\u001b[0m\u001b[1;32m      7\u001b[0m     \u001b[0;31m#x_batch.reshape(1,x_batch.shape)\u001b[0m\u001b[0;34m\u001b[0m\u001b[0;34m\u001b[0m\u001b[0m\n\u001b[1;32m      8\u001b[0m     \u001b[0mloss\u001b[0m\u001b[0;34m.\u001b[0m\u001b[0mappend\u001b[0m\u001b[0;34m(\u001b[0m\u001b[0mmodel\u001b[0m\u001b[0;34m.\u001b[0m\u001b[0mtrain_on_batch\u001b[0m\u001b[0;34m(\u001b[0m\u001b[0mx_batch\u001b[0m\u001b[0;34m,\u001b[0m\u001b[0my_batch\u001b[0m\u001b[0;34m)\u001b[0m\u001b[0;34m)\u001b[0m\u001b[0;34m\u001b[0m\u001b[0m\n",
      "\u001b[0;32m<ipython-input-12-dc4a5435d6c0>\u001b[0m in \u001b[0;36m<listcomp>\u001b[0;34m(.0)\u001b[0m\n\u001b[1;32m      4\u001b[0m \u001b[0;32mfor\u001b[0m \u001b[0mcounter\u001b[0m \u001b[0;32min\u001b[0m \u001b[0mrange\u001b[0m\u001b[0;34m(\u001b[0m\u001b[0;36m200\u001b[0m\u001b[0;34m)\u001b[0m\u001b[0;34m:\u001b[0m\u001b[0;34m\u001b[0m\u001b[0m\n\u001b[1;32m      5\u001b[0m     \u001b[0mindexes\u001b[0m\u001b[0;34m=\u001b[0m\u001b[0mnp\u001b[0m\u001b[0;34m.\u001b[0m\u001b[0mrandom\u001b[0m\u001b[0;34m.\u001b[0m\u001b[0mrandint\u001b[0m\u001b[0;34m(\u001b[0m\u001b[0;36m0\u001b[0m\u001b[0;34m,\u001b[0m\u001b[0mlen\u001b[0m\u001b[0;34m(\u001b[0m\u001b[0mgenerators\u001b[0m\u001b[0;34m)\u001b[0m\u001b[0;34m,\u001b[0m\u001b[0;36m1\u001b[0m\u001b[0;34m)\u001b[0m\u001b[0;34m\u001b[0m\u001b[0m\n\u001b[0;32m----> 6\u001b[0;31m     \u001b[0mx_batch\u001b[0m\u001b[0;34m,\u001b[0m \u001b[0my_batch\u001b[0m \u001b[0;34m=\u001b[0m \u001b[0mmap\u001b[0m\u001b[0;34m(\u001b[0m\u001b[0mnp\u001b[0m\u001b[0;34m.\u001b[0m\u001b[0mconcatenate\u001b[0m\u001b[0;34m,\u001b[0m \u001b[0mzip\u001b[0m\u001b[0;34m(\u001b[0m\u001b[0;34m*\u001b[0m\u001b[0;34m[\u001b[0m\u001b[0mgenerate_sample\u001b[0m\u001b[0;34m(\u001b[0m\u001b[0mgenerators\u001b[0m\u001b[0;34m[\u001b[0m\u001b[0mi\u001b[0m\u001b[0;34m]\u001b[0m\u001b[0;34m,\u001b[0m\u001b[0mspectrograms\u001b[0m\u001b[0;34m[\u001b[0m\u001b[0mi\u001b[0m\u001b[0;34m]\u001b[0m\u001b[0;34m)\u001b[0m \u001b[0;32mfor\u001b[0m \u001b[0mi\u001b[0m \u001b[0;32min\u001b[0m \u001b[0mindexes\u001b[0m\u001b[0;34m]\u001b[0m\u001b[0;34m)\u001b[0m\u001b[0;34m)\u001b[0m\u001b[0;34m\u001b[0m\u001b[0m\n\u001b[0m\u001b[1;32m      7\u001b[0m     \u001b[0;31m#x_batch.reshape(1,x_batch.shape)\u001b[0m\u001b[0;34m\u001b[0m\u001b[0;34m\u001b[0m\u001b[0m\n\u001b[1;32m      8\u001b[0m     \u001b[0mloss\u001b[0m\u001b[0;34m.\u001b[0m\u001b[0mappend\u001b[0m\u001b[0;34m(\u001b[0m\u001b[0mmodel\u001b[0m\u001b[0;34m.\u001b[0m\u001b[0mtrain_on_batch\u001b[0m\u001b[0;34m(\u001b[0m\u001b[0mx_batch\u001b[0m\u001b[0;34m,\u001b[0m\u001b[0my_batch\u001b[0m\u001b[0;34m)\u001b[0m\u001b[0;34m)\u001b[0m\u001b[0;34m\u001b[0m\u001b[0m\n",
      "\u001b[0;31mNameError\u001b[0m: name 'generate_sample' is not defined"
     ]
    }
   ],
   "source": [
    "#%%time\n",
    "##train\n",
    "\n",
    "for counter in range(200):\n",
    "    indexes=np.random.randint(0,len(generators),1)\n",
    "    x_batch, y_batch = map(np.concatenate, zip(*[generate_sample(generators[i],spectrograms[i]) for i in indexes]))\n",
    "    #x_batch.reshape(1,x_batch.shape)\n",
    "    loss.append(model.train_on_batch(x_batch,y_batch))\n",
    "    #clear_output(wait=True)\n",
    "    plt.plot(loss)\n",
    "    model.save_weights(\"/home/jheuristic/data/weights/model2.wght\")"
   ]
  },
  {
   "cell_type": "code",
   "execution_count": 11,
   "metadata": {},
   "outputs": [
    {
     "data": {
      "text/plain": [
       "[<matplotlib.lines.Line2D at 0x7fabb84fd160>]"
      ]
     },
     "execution_count": 11,
     "metadata": {},
     "output_type": "execute_result"
    },
    {
     "data": {
      "image/png": "[encoded data removed]",
      "text/plain": [
       "<matplotlib.figure.Figure at 0x7fabb8515a90>"
      ]
     },
     "metadata": {},
     "output_type": "display_data"
    }
   ],
   "source": [
    "plt.plot(loss)"
   ]
  },
  {
   "cell_type": "code",
   "execution_count": 26,
   "metadata": {
    "collapsed": true
   },
   "outputs": [],
   "source": [
    "model.save_weights(\"/home/jheuristic/data/weights/model2.wght\")"
   ]
  },
  {
   "cell_type": "code",
   "execution_count": 36,
   "metadata": {
    "collapsed": true
   },
   "outputs": [],
   "source": [
    "a,b = map(np.concatenate, zip(*[generate_sample(generators[i],spectrograms[i]) for i in indexes]))"
   ]
  },
  {
   "cell_type": "code",
   "execution_count": 52,
   "metadata": {
    "collapsed": true
   },
   "outputs": [],
   "source": [
    "a,b = generate_sample(generators[0],spectrograms[0])"
   ]
  },
  {
   "cell_type": "code",
   "execution_count": 57,
   "metadata": {
    "collapsed": true
   },
   "outputs": [],
   "source": [
    "b = model.predict(a)"
   ]
  },
  {
   "cell_type": "code",
   "execution_count": 58,
   "metadata": {},
   "outputs": [
    {
     "data": {
      "text/plain": [
       "(1, 128)"
      ]
     },
     "execution_count": 58,
     "metadata": {},
     "output_type": "execute_result"
    }
   ],
   "source": [
    "b.shape"
   ]
  },
  {
   "cell_type": "code",
   "execution_count": 6,
   "metadata": {},
   "outputs": [],
   "source": [
    "model.load_weights('/home/jheuristic/data/weights/model2.wght')"
   ]
  }
 ],
 "metadata": {
  "kernelspec": {
   "display_name": "Python 3",
   "language": "python",
   "name": "python3"
  },
  "language_info": {
   "codemirror_mode": {
    "name": "ipython",
    "version": 3
   },
   "file_extension": ".py",
   "mimetype": "text/x-python",
   "name": "python",
   "nbconvert_exporter": "python",
   "pygments_lexer": "ipython3",
   "version": "3.6.2"
  }
 },
 "nbformat": 4,
 "nbformat_minor": 2
}
