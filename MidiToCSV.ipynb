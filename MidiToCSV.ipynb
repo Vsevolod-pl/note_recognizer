{
 "cells": [
  {
   "cell_type": "code",
   "execution_count": 2,
   "metadata": {},
   "outputs": [
    {
     "name": "stdout",
     "output_type": "stream",
     "text": [
      "Collecting python-midi\n",
      "Installing collected packages: python-midi\n",
      "Successfully installed python-midi-0.2.4\n"
     ]
    },
    {
     "name": "stderr",
     "output_type": "stream",
     "text": [
      "You are using pip version 9.0.1, however version 9.0.2 is available.\n",
      "You should consider upgrading via the 'pip install --upgrade pip' command.\n"
     ]
    }
   ],
   "source": [
    "%%bash\n",
    "source activate py2\n",
    "pip install python-midi --user"
   ]
  },
  {
   "cell_type": "code",
   "execution_count": 5,
   "metadata": {
    "collapsed": true
   },
   "outputs": [],
   "source": [
    "import sys\n",
    "sys.path.insert(0, \"/home/jheuristic/.local/lib/python2.7/site-packages/\")"
   ]
  },
  {
   "cell_type": "code",
   "execution_count": 6,
   "metadata": {
    "collapsed": true
   },
   "outputs": [],
   "source": [
    "import midi"
   ]
  },
  {
   "cell_type": "code",
   "execution_count": 11,
   "metadata": {},
   "outputs": [
    {
     "name": "stdout",
     "output_type": "stream",
     "text": [
      "Collecting pip\n",
      "  Downloading pip-9.0.2-py2.py3-none-any.whl (1.4MB)\n",
      "\u001b[K    100% |████████████████████████████████| 1.4MB 990kB/s eta 0:00:01   16% |█████▏                          | 225kB 26.3MB/s eta 0:00:01\n",
      "\u001b[?25hInstalling collected packages: pip\n",
      "  Found existing installation: pip 9.0.1\n",
      "    Uninstalling pip-9.0.1:\n",
      "\u001b[31mException:\n",
      "Traceback (most recent call last):\n",
      "  File \"/opt/conda/anaconda3/lib/python3.6/shutil.py\", line 544, in move\n",
      "    os.rename(src, real_dst)\n",
      "PermissionError: [Errno 13] Permission denied: '/opt/conda/anaconda3/bin/pip' -> '/tmp/pip-v12k2006-uninstall/opt/conda/anaconda3/bin/pip'\n",
      "\n",
      "During handling of the above exception, another exception occurred:\n",
      "\n",
      "Traceback (most recent call last):\n",
      "  File \"/opt/conda/anaconda3/lib/python3.6/site-packages/pip/basecommand.py\", line 215, in main\n",
      "    status = self.run(options, args)\n",
      "  File \"/opt/conda/anaconda3/lib/python3.6/site-packages/pip/commands/install.py\", line 342, in run\n",
      "    prefix=options.prefix_path,\n",
      "  File \"/opt/conda/anaconda3/lib/python3.6/site-packages/pip/req/req_set.py\", line 778, in install\n",
      "    requirement.uninstall(auto_confirm=True)\n",
      "  File \"/opt/conda/anaconda3/lib/python3.6/site-packages/pip/req/req_install.py\", line 754, in uninstall\n",
      "    paths_to_remove.remove(auto_confirm)\n",
      "  File \"/opt/conda/anaconda3/lib/python3.6/site-packages/pip/req/req_uninstall.py\", line 115, in remove\n",
      "    renames(path, new_path)\n",
      "  File \"/opt/conda/anaconda3/lib/python3.6/site-packages/pip/utils/__init__.py\", line 267, in renames\n",
      "    shutil.move(old, new)\n",
      "  File \"/opt/conda/anaconda3/lib/python3.6/shutil.py\", line 559, in move\n",
      "    os.unlink(src)\n",
      "PermissionError: [Errno 13] Permission denied: '/opt/conda/anaconda3/bin/pip'\u001b[0m\n",
      "\u001b[33mYou are using pip version 9.0.1, however version 9.0.2 is available.\n",
      "You should consider upgrading via the 'pip install --upgrade pip' command.\u001b[0m\n"
     ]
    }
   ],
   "source": [
    "!pip install --upgrade pip"
   ]
  },
  {
   "cell_type": "code",
   "execution_count": 58,
   "metadata": {
    "collapsed": true
   },
   "outputs": [],
   "source": [
    "import os\n",
    "import midi\n",
    "import pandas as pd\n",
    "\n",
    "exceptions = []\n",
    "\n",
    "try:\n",
    "    os.mkdir(\"csvs\")\n",
    "except Exception as e:\n",
    "    exceptions.append(e)\n",
    "\n",
    "counter=0\n",
    "    \n",
    "for path, subdirs, files in os.walk(\"/home/jheuristic/data/midies/\"):\n",
    "    counter+=1\n",
    "    try:\n",
    "        for midifile in files:\n",
    "            pattern = midi.read_midifile(path+\"/\"+midifile)\n",
    "            noteArr=[]\n",
    "            for track in pattern:\n",
    "                time=0\n",
    "                for note in track:\n",
    "                    if(isinstance(note,midi.NoteOnEvent)):\n",
    "                        time=time+note.tick\n",
    "                        noteArr.append([note.get_pitch(),note.data[1]>0,time])\n",
    "                    if(isinstance(note,midi.NoteOffEvent)):\n",
    "                        noteArr.append([note.get_pitch(),0,time])\n",
    "            notesDF = pd.DataFrame(noteArr, columns = ['pitch', 'type', 'tick'])\n",
    "            notesDF.to_csv(\"csvs/\"+midifile+\".csv\")\n",
    "    except Exception as e:\n",
    "        exceptions.append(e)"
   ]
  },
  {
   "cell_type": "code",
   "execution_count": 63,
   "metadata": {
    "collapsed": true
   },
   "outputs": [],
   "source": [
    "pattern = midi.read_midifile(\"/home/jheuristic/data/Test/009count.mid\")\n",
    "noteArr=[]\n",
    "for track in pattern:\n",
    "    time=0\n",
    "    for note in track:\n",
    "        if(isinstance(note,midi.NoteOnEvent)):\n",
    "            time=time+note.tick\n",
    "            noteArr.append([note.get_pitch(),note.data[1]>0,time])\n",
    "        if(isinstance(note,midi.NoteOffEvent)):\n",
    "            noteArr.append([note.get_pitch(),0,time])\n",
    "notesDF = pd.DataFrame(noteArr, columns = ['pitch', 'type', 'tick'])\n",
    "notesDF.to_csv(\"/home/jheuristic/data/Test/009count.mid.csv\")"
   ]
  },
  {
   "cell_type": "code",
   "execution_count": 59,
   "metadata": {},
   "outputs": [
    {
     "data": {
      "text/plain": [
       "2"
      ]
     },
     "execution_count": 59,
     "metadata": {},
     "output_type": "execute_result"
    }
   ],
   "source": [
    "len(exceptions)"
   ]
  },
  {
   "cell_type": "code",
   "execution_count": 61,
   "metadata": {},
   "outputs": [
    {
     "data": {
      "text/plain": [
       "TypeError('Bad header in MIDI file.')"
      ]
     },
     "execution_count": 61,
     "metadata": {},
     "output_type": "execute_result"
    }
   ],
   "source": [
    "exceptions[1]"
   ]
  },
  {
   "cell_type": "code",
   "execution_count": 29,
   "metadata": {},
   "outputs": [
    {
     "data": {
      "text/plain": [
       "'/mnt/jheuristic'"
      ]
     },
     "execution_count": 29,
     "metadata": {},
     "output_type": "execute_result"
    }
   ],
   "source": [
    "os.getcwd()"
   ]
  }
 ],
 "metadata": {
  "kernelspec": {
   "display_name": "Python 2",
   "language": "python",
   "name": "python2"
  },
  "language_info": {
   "codemirror_mode": {
    "name": "ipython",
    "version": 2
   },
   "file_extension": ".py",
   "mimetype": "text/x-python",
   "name": "python",
   "nbconvert_exporter": "python",
   "pygments_lexer": "ipython2",
   "version": "2.7.13"
  }
 },
 "nbformat": 4,
 "nbformat_minor": 2
}
